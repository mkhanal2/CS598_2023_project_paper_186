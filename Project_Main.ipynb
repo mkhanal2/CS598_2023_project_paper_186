{
  "cells": [
    {
      "cell_type": "markdown",
      "metadata": {
        "id": "ns-CdHbJy7yS"
      },
      "source": [
        "# **Poject Introduction**\n",
        "\n",
        "As part of the project fo CS598 - Deep learning for Healthcare project work. I will be trying to reproudce the results for the Paper, details of the paper below:\n",
        "\n",
        "Link to the Paper: https://pubmed.ncbi.nlm.nih.gov/34127241/\n",
        "\n",
        "GitHub Page: https://github.com/tanlab/ConvolutionMedicalNer\n",
        "\n"
      ]
    },
    {
      "cell_type": "markdown",
      "metadata": {
        "id": "64LyAKJYXvmN"
      },
      "source": [
        "First let's import basic libraries that we need for this Project.\n",
        "\n",
        "If below libraries are not installed in your machine, please use pip command to install them on the machine. "
      ]
    },
    {
      "cell_type": "code",
      "source": [
        "%%capture\n",
        "!pip install https://huggingface.co/kormilitzin/en_core_med7_lg/resolve/main/en_core_med7_lg-any-py3-none-any.whl"
      ],
      "metadata": {
        "id": "BjJ06g7SF3Vg"
      },
      "execution_count": null,
      "outputs": []
    },
    {
      "cell_type": "code",
      "execution_count": null,
      "metadata": {
        "id": "0UBJQ08AXpkp"
      },
      "outputs": [],
      "source": [
        "import pandas as pd\n",
        "import os\n",
        "import sys\n",
        "import numpy as np\n",
        "import torch"
      ]
    },
    {
      "cell_type": "markdown",
      "source": [
        "Also, lets import the libraries (function and class) build specific for this project. These files do have some additional python pacakges used, please install those pacakges if not there in the environment. If this is running in google Colab , you would need to sync your colab environment with google drive first. "
      ],
      "metadata": {
        "id": "fII60IeubSv9"
      }
    },
    {
      "cell_type": "code",
      "source": [
        "py_file_location = \"/content/drive/My Drive/DLHC-Code/\" #give your library director here.\n",
        "sys.path.append(os.path.abspath(py_file_location))\n",
        "from project_data_prep_lib import data_prep_time_series, mean, convert_txt_to_entity, convert_ent_to_embedding, get_embd_array\n",
        "from project_model_lib import CustomDataset, BaseModel, MultiModel, TransformerModel, eval_model, EarlyStopper, BestModelCheckPoint, SaveAllResults, train_model"
      ],
      "metadata": {
        "id": "6w7XpF3LEzVg"
      },
      "execution_count": null,
      "outputs": []
    },
    {
      "cell_type": "markdown",
      "source": [
        "Let's set the directories for the data file that we are going to use for this project. \n",
        "\n",
        "We will primary use two main files for our project. \n",
        "Similar to original paper, we will use MCMIC-III dataset and also there is pre-processed dataset of MCMIC-III from another project called , MIMIC extract that we will be using (similar to original paper): \n",
        "\n",
        "Gihub Page: https://github.com/MLforHealth/MIMIC_Extract"
      ],
      "metadata": {
        "id": "iQ3ipEB9jMxK"
      }
    },
    {
      "cell_type": "code",
      "execution_count": null,
      "metadata": {
        "id": "fuhsj2NvXqgm"
      },
      "outputs": [],
      "source": [
        "#MIMIC_EXTRACT file-name. Hourly file. (Time-series Data) \n",
        "MIMIC_EXTRACT_FILE = \"./drive/MyDrive/DLHC-Data/all_hourly_data.h5\"\n",
        "\n",
        "#Clinical Notes from MIMIC\n",
        "CLINICAL_NOTES_FILE = \"./drive/MyDrive/DLHC-Data/NOTEEVENTS.csv.gz\"\n",
        "\n",
        "TEMP_DATA_DIR = \"./drive/MyDrive/DLHC-Data/temp_data/\""
      ]
    },
    {
      "cell_type": "markdown",
      "source": [
        "# **Data Import/Extraction and Cohort Creation**\n",
        "\n",
        "In this section, we will import the required data and go through the data cohort creation for the project.\n",
        "- First \"patients\" data is extracted and goes through the pre-processing of only selecting the patients with at-least 30 hours window (24 hours data window and 6 hours gap). \n",
        "- Then two target variables los_3 and los_7 are created using 'los_icu'. Othe two target variables (in_host_mort and in_icu_mort) are already there in the dataset."
      ],
      "metadata": {
        "id": "zLqbJyxSq_Jd"
      }
    },
    {
      "cell_type": "code",
      "source": [
        "#Define the Window and Gap for our dataset.\n",
        "DATA_WINDOW_SIZE = 24 #hours\n",
        "DATA_GAP_SIZE = 6 #hours\n",
        "DATA_MIN_SIZE = DATA_WINDOW_SIZE + DATA_GAP_SIZE #30 hours"
      ],
      "metadata": {
        "id": "CkYlJnj_ksbC"
      },
      "execution_count": null,
      "outputs": []
    },
    {
      "cell_type": "code",
      "source": [
        "#Read the dataset from MIMIC_EXTRACT\n",
        "patients_df = pd.read_hdf(MIMIC_EXTRACT_FILE, 'patients')\n",
        "print(\"Total Patient Before selection Size: {}\".format(patients_df.shape))\n",
        "#We are only going to use mortality hospital, mortality icu and lenght of stay ICU from this dataset\n",
        "#Making sure that cohart of data that we are going to use is from the WINDOW and GAP size we defined. \n",
        "patients_df = patients_df[patients_df.max_hours > DATA_MIN_SIZE]\n",
        "\n",
        "#The mort_hosp and mort_icu are already in 0 and 1 values , which we need. But los_icu is in hours. \n",
        "#For our target we need los more than 3 hours and more than 7 hours. So, let's build that columns.\n",
        "patients_df['los_3'] = patients_df['los_icu'] > 3\n",
        "patients_df['los_7'] = patients_df['los_icu'] > 7\n",
        "patients_df.drop(columns=['los_icu'], inplace=True)\n",
        "patients_df = patients_df.reset_index()\n",
        "patients_df.rename(columns = {\"subject_id\": \"SUBJECT_ID\", \"hadm_id\": \"HADM_ID\"}, inplace=True)\n",
        "print(\"Patient Cohort Size: {}\".format(patients_df.shape))"
      ],
      "metadata": {
        "colab": {
          "base_uri": "https://localhost:8080/"
        },
        "id": "r08low8ar7Le",
        "outputId": "a10ee19b-e0a1-4cba-c412-20b31dfe9cf7"
      },
      "execution_count": null,
      "outputs": [
        {
          "output_type": "stream",
          "name": "stdout",
          "text": [
            "Total Patient Before selection Size: (34472, 28)\n",
            "Patient Cohort Size: (23944, 32)\n"
          ]
        }
      ]
    },
    {
      "cell_type": "markdown",
      "source": [
        "In this section, we will import the vita-labs data.\n",
        "- First \"vita-labs\" data is extracted and goes through the pre-processing of only selecting the records with data window of 24 hours). \n",
        "- Also, filter is applied to make sure that the data matches with the patient cohort above."
      ],
      "metadata": {
        "id": "3DUSh8c8_RJe"
      }
    },
    {
      "cell_type": "code",
      "execution_count": null,
      "metadata": {
        "id": "q3cHPlC1X-XI",
        "colab": {
          "base_uri": "https://localhost:8080/"
        },
        "outputId": "62ec927b-47d6-4f5d-e41e-68dbfe5bb793"
      },
      "outputs": [
        {
          "output_type": "stream",
          "name": "stdout",
          "text": [
            "Time-series Overall Size before filters: (2200954, 312)\n",
            "Time-series Size After initial time filters: (574656, 312)\n"
          ]
        }
      ],
      "source": [
        "time_series_df = pd.read_hdf(MIMIC_EXTRACT_FILE, \"vitals_labs\")\n",
        "print(\"Time-series Overall Size before filters: {}\".format(time_series_df.shape))\n",
        "#There are four index in this data ['subject_id', 'hadm_id', 'icustay_id', 'hours_in']\n",
        "#We will applly filter in icustay_id index to make sure that it matches with our patiens records extracted above.\n",
        "#Also, we will apply filter on hours_in index to make sure that is it is below the WINDOW_SIZE\n",
        "is_in_patient_cohort = time_series_df.index.get_level_values('icustay_id').isin(set(patients_df['icustay_id'].values))\n",
        "time_series_df = time_series_df[is_in_patient_cohort & (time_series_df.index.get_level_values('hours_in') < DATA_WINDOW_SIZE)]\n",
        "print(\"Time-series Size After initial time filters: {}\".format(time_series_df.shape))\n"
      ]
    },
    {
      "cell_type": "markdown",
      "source": [
        "In this section, we will import the clinical-notes data.\n",
        "- First \"clinical notes\" data is extracted and goes through the pre-processing of excluding the discharge-summary. \n",
        "- Also, filter is applied to make sure that the clinical notes are part of patient cohort above and also are within that 24-hours window."
      ],
      "metadata": {
        "id": "cGIbZ1mQ_rX0"
      }
    },
    {
      "cell_type": "code",
      "execution_count": null,
      "metadata": {
        "id": "pXlV6EmTDVR2",
        "colab": {
          "base_uri": "https://localhost:8080/"
        },
        "outputId": "9d9f779c-ee7e-4abf-90a4-d7f5cd61a29c"
      },
      "outputs": [
        {
          "output_type": "stream",
          "name": "stdout",
          "text": [
            "Original Clinical Notes Size, before cohort selection/clean-up: (2083180, 11)\n",
            "After removing Dischare Summary: (2023528, 11)\n",
            "After merging with patient cohort: (745974, 7)\n",
            "After all pre-processing is done: (181483, 8)\n"
          ]
        }
      ],
      "source": [
        "clinical_notes_df = pd.read_csv(CLINICAL_NOTES_FILE, compression = 'gzip', low_memory=False)\n",
        "print(\"Original Clinical Notes Size, before cohort selection/clean-up: {}\".format(clinical_notes_df.shape))\n",
        "\n",
        "#Remove Discharege Summary\n",
        "note_categories = clinical_notes_df.groupby(clinical_notes_df.CATEGORY).agg(['count']).index\n",
        "note_categories = list(note_categories[note_categories != 'Discharge summary'])\n",
        "clinical_notes_df = clinical_notes_df[clinical_notes_df.CATEGORY.isin(note_categories)]\n",
        "print(\"After removing Dischare Summary: {}\".format(clinical_notes_df.shape))\n",
        "\n",
        "#Remove CHARTIME as Null values.\n",
        "clinical_notes_df = clinical_notes_df[~clinical_notes_df[\"CHARTTIME\"].isnull()]\n",
        "clinical_notes_df = pd.merge(clinical_notes_df[['SUBJECT_ID','HADM_ID',\"CATEGORY\",'CHARTTIME', 'TEXT']],\n",
        "                        patients_df[['SUBJECT_ID','HADM_ID','intime']], \n",
        "                        on = ['SUBJECT_ID'],\n",
        "                        how = 'inner')\n",
        "print(\"After merging with patient cohort: {}\".format(clinical_notes_df.shape))\n",
        "\n",
        "TIMELIMIT = 1 #(1-days or 24-hours)\n",
        "clinical_notes_df['CHARTTIME'] = pd.to_datetime(clinical_notes_df['CHARTTIME'])\n",
        "clinical_notes_df[\"gap_time\"] = ((clinical_notes_df['CHARTTIME']-clinical_notes_df['intime']).dt.total_seconds())/(24.0*60*60)\n",
        "clinical_notes_df = clinical_notes_df[clinical_notes_df[\"gap_time\"]<TIMELIMIT]\n",
        "print(\"After all pre-processing is done: {}\".format(clinical_notes_df.shape))"
      ]
    },
    {
      "cell_type": "markdown",
      "source": [
        "After we have a clinical-notes dataset it goes through the follwing steps:\n",
        "- Extract entities from the clinical notes.\n",
        "- Convert the entities extrcted into the vector representation (using word2Vec method)\n",
        "- As this process runs for long time, loops and 1000 datapoints per loop is used, so that we can re-start from the point of failure if we have to restart."
      ],
      "metadata": {
        "id": "rvsb0IdBAESJ"
      }
    },
    {
      "cell_type": "code",
      "source": [
        "import math\n",
        "length_in_k = math.ceil(clinical_notes_df.shape[0]/1000)\n",
        "\n",
        "size = 1000\n",
        "for i in range(length_in_k):\n",
        "  name = TEMP_DATA_DIR + \"notes_with_embedding_\" + str(i) + \".pk1\"\n",
        "  if os.path.exists(name):\n",
        "    continue\n",
        "  else:\n",
        "    start = i*size\n",
        "    end = (i+1) * (size)\n",
        "    batch = clinical_notes_df[start:end]\n",
        "    batch['entity'] = batch['TEXT'].apply(lambda x:convert_txt_to_entity(x))\n",
        "    batch['embd'] = batch['entity'].apply(lambda x:convert_ent_to_embedding(x))\n",
        "    pd.to_pickle(batch, name)"
      ],
      "metadata": {
        "id": "YGlAB0LYtTo6"
      },
      "execution_count": null,
      "outputs": []
    },
    {
      "cell_type": "code",
      "source": [
        "new_note = []\n",
        "for i in range(length_in_k):\n",
        "  name = TEMP_DATA_DIR + \"notes_with_embedding_\" + str(i) + \".pk1\"\n",
        "  batch =  pd.read_pickle(name)\n",
        "  if i == 0:\n",
        "    new_note = batch\n",
        "  else:\n",
        "    new_note = pd.concat([new_note, batch], ignore_index=True, sort=False)\n",
        "clinical_notes_df = new_note\n",
        "\n",
        "clinical_notes_df[\"vec_len\"] = clinical_notes_df['embd'].apply(lambda x:len(x))\n",
        "clinical_notes_df = clinical_notes_df[clinical_notes_df[\"vec_len\"] > 0]\n",
        "\n",
        "name = TEMP_DATA_DIR + \"notes_with_entity_and_embedding_raw.pk1\"\n",
        "pd.to_pickle(clinical_notes_df, name)"
      ],
      "metadata": {
        "id": "brE2Xap1iHqb"
      },
      "execution_count": null,
      "outputs": []
    },
    {
      "cell_type": "code",
      "source": [
        "print(\"Clinical Notes cohort at patient-level: {}\".format(clinical_notes_df.shape))"
      ],
      "metadata": {
        "colab": {
          "base_uri": "https://localhost:8080/"
        },
        "id": "1omCFv6_hvQF",
        "outputId": "29f35943-559f-4da8-c8ef-4ffb208cfb93"
      },
      "execution_count": null,
      "outputs": [
        {
          "output_type": "stream",
          "name": "stdout",
          "text": [
            "Clinical Notes cohort at patient-level: (105436, 10)\n"
          ]
        }
      ]
    },
    {
      "cell_type": "markdown",
      "source": [
        "Finally once we have all the dataset (Patients, Time-seires data (vital-labs) and the clinical notes). We make sure that all the dataset has same patient cohort. This is the final chort of data that is going to be used. "
      ],
      "metadata": {
        "id": "kJjEW-DlAXi7"
      }
    },
    {
      "cell_type": "code",
      "execution_count": null,
      "metadata": {
        "colab": {
          "base_uri": "https://localhost:8080/"
        },
        "id": "uxgal1oUreUC",
        "outputId": "dd455b3d-142c-4066-de42-d662879d3c95"
      },
      "outputs": [
        {
          "output_type": "stream",
          "name": "stdout",
          "text": [
            "Patients Cohort Size Final: (21207, 32)\n",
            "Time-series Cohort Size Final: (508968, 312)\n",
            "Clinical Notes Cohort Size Final: (105436, 10)\n"
          ]
        }
      ],
      "source": [
        "#Making sure both data-sets have same patient cohort. \n",
        "time_series_df = time_series_df[time_series_df.index.get_level_values('subject_id').isin(set(clinical_notes_df['SUBJECT_ID'].values))]\n",
        "clinical_notes_df = clinical_notes_df[clinical_notes_df['SUBJECT_ID'].isin(set(time_series_df.index.get_level_values('subject_id')))]\n",
        "patients_df = patients_df[patients_df['SUBJECT_ID'].isin(set(clinical_notes_df['SUBJECT_ID'].values))]\n",
        "print(\"Patients Cohort Size Final: {}\".format(patients_df.shape))\n",
        "print(\"Time-series Cohort Size Final: {}\".format(time_series_df.shape))\n",
        "print(\"Clinical Notes Cohort Size Final: {}\".format(clinical_notes_df.shape))\n"
      ]
    },
    {
      "cell_type": "markdown",
      "source": [
        "# **Data Summary / Visualization**"
      ],
      "metadata": {
        "id": "pm2Xo1r3Fd58"
      }
    },
    {
      "cell_type": "markdown",
      "source": [
        "Let's try to understand little bit more about the data that we are using. First let's look into different types of patients records that we have:\n",
        "- Admission Type\n",
        "- Gender"
      ],
      "metadata": {
        "id": "6Z3z7o_QDtlg"
      }
    },
    {
      "cell_type": "code",
      "source": [
        "patients_df['admission_type'].value_counts().plot(kind='bar',title=\"Patients Counts per Admission Type\", xlabel = \" Admission Type\", ylabel = \"Patient Counts\")"
      ],
      "metadata": {
        "colab": {
          "base_uri": "https://localhost:8080/",
          "height": 563
        },
        "id": "HEaZa3srBFOL",
        "outputId": "37f54b43-9a48-44f8-8a40-a7ab2ef3bb54"
      },
      "execution_count": null,
      "outputs": [
        {
          "output_type": "execute_result",
          "data": {
            "text/plain": [
              "<Axes: title={'center': 'Patients Counts per Admission Type'}, xlabel=' Admission Type', ylabel='Patient Counts'>"
            ]
          },
          "metadata": {},
          "execution_count": 20
        },
        {
          "output_type": "display_data",
          "data": {
            "text/plain": [
              "<Figure size 640x480 with 1 Axes>"
            ],
            "image/png": "[encoded data removed]"
          },
          "metadata": {}
        }
      ]
    },
    {
      "cell_type": "code",
      "source": [
        "patients_df['gender'].value_counts().plot(kind='bar',title=\"Patients Counts per gender\", xlabel = \" gender\", ylabel = \"Patient Counts\")"
      ],
      "metadata": {
        "colab": {
          "base_uri": "https://localhost:8080/",
          "height": 488
        },
        "id": "BD0n9NbgDoXN",
        "outputId": "87940559-8a17-489a-dcd6-6a2839a32b14"
      },
      "execution_count": null,
      "outputs": [
        {
          "output_type": "execute_result",
          "data": {
            "text/plain": [
              "<Axes: title={'center': 'Patients Counts per gender'}, xlabel=' gender', ylabel='Patient Counts'>"
            ]
          },
          "metadata": {},
          "execution_count": 21
        },
        {
          "output_type": "display_data",
          "data": {
            "text/plain": [
              "<Figure size 640x480 with 1 Axes>"
            ],
            "image/png": "[encoded data removed]"
          },
          "metadata": {}
        }
      ]
    },
    {
      "cell_type": "markdown",
      "source": [
        "Then let's look into the data-distribtuion for the target variable.\n",
        "- Counts of positive cases in each target variable.\n",
        "- Percentage to total for the positive cases."
      ],
      "metadata": {
        "id": "EqVAK7Ldo2LK"
      }
    },
    {
      "cell_type": "code",
      "source": [
        "positive_case = patients_df\n",
        "positive_case[\"Total\"] = \"Positive Counts\"\n",
        "tgt_agg =  positive_case.groupby([\"Total\"]).aggregate({'mort_hosp':sum, 'mort_icu':sum, 'los_3':sum,'los_7':sum})\n",
        "tgt_agg = tgt_agg.reset_index()\n",
        "tgt_agg.head(10)"
      ],
      "metadata": {
        "colab": {
          "base_uri": "https://localhost:8080/",
          "height": 81
        },
        "id": "S0cDzfEjFavr",
        "outputId": "5b0fcf0d-0868-4726-8956-4db4cfa136c7"
      },
      "execution_count": null,
      "outputs": [
        {
          "output_type": "execute_result",
          "data": {
            "text/plain": [
              "             Total  mort_hosp  mort_icu  los_3  los_7\n",
              "0  Positive Counts       2252      1496   9168   1659"
            ],
            "text/html": [
              "\n",
              "  <div id=\"df-d8bb9cec-7c98-423f-8113-85d3da666258\">\n",
              "    <div class=\"colab-df-container\">\n",
              "      <div>\n",
              "<style scoped>\n",
              "    .dataframe tbody tr th:only-of-type {\n",
              "        vertical-align: middle;\n",
              "    }\n",
              "\n",
              "    .dataframe tbody tr th {\n",
              "        vertical-align: top;\n",
              "    }\n",
              "\n",
              "    .dataframe thead th {\n",
              "        text-align: right;\n",
              "    }\n",
              "</style>\n",
              "<table border=\"1\" class=\"dataframe\">\n",
              "  <thead>\n",
              "    <tr style=\"text-align: right;\">\n",
              "      <th></th>\n",
              "      <th>Total</th>\n",
              "      <th>mort_hosp</th>\n",
              "      <th>mort_icu</th>\n",
              "      <th>los_3</th>\n",
              "      <th>los_7</th>\n",
              "    </tr>\n",
              "  </thead>\n",
              "  <tbody>\n",
              "    <tr>\n",
              "      <th>0</th>\n",
              "      <td>Positive Counts</td>\n",
              "      <td>2252</td>\n",
              "      <td>1496</td>\n",
              "      <td>9168</td>\n",
              "      <td>1659</td>\n",
              "    </tr>\n",
              "  </tbody>\n",
              "</table>\n",
              "</div>\n",
              "      <button class=\"colab-df-convert\" onclick=\"convertToInteractive('df-d8bb9cec-7c98-423f-8113-85d3da666258')\"\n",
              "              title=\"Convert this dataframe to an interactive table.\"\n",
              "              style=\"display:none;\">\n",
              "        \n",
              "  <svg xmlns=\"http://www.w3.org/2000/svg\" height=\"24px\"viewBox=\"0 0 24 24\"\n",
              "       width=\"24px\">\n",
              "    <path d=\"M0 0h24v24H0V0z\" fill=\"none\"/>\n",
              "    <path d=\"M18.56 5.44l.94 2.06.94-2.06 2.06-.94-2.06-.94-.94-2.06-.94 2.06-2.06.94zm-11 1L8.5 8.5l.94-2.06 2.06-.94-2.06-.94L8.5 2.5l-.94 2.06-2.06.94zm10 10l.94 2.06.94-2.06 2.06-.94-2.06-.94-.94-2.06-.94 2.06-2.06.94z\"/><path d=\"M17.41 7.96l-1.37-1.37c-.4-.4-.92-.59-1.43-.59-.52 0-1.04.2-1.43.59L10.3 9.45l-7.72 7.72c-.78.78-.78 2.05 0 2.83L4 21.41c.39.39.9.59 1.41.59.51 0 1.02-.2 1.41-.59l7.78-7.78 2.81-2.81c.8-.78.8-2.07 0-2.86zM5.41 20L4 18.59l7.72-7.72 1.47 1.35L5.41 20z\"/>\n",
              "  </svg>\n",
              "      </button>\n",
              "      \n",
              "  <style>\n",
              "    .colab-df-container {\n",
              "      display:flex;\n",
              "      flex-wrap:wrap;\n",
              "      gap: 12px;\n",
              "    }\n",
              "\n",
              "    .colab-df-convert {\n",
              "      background-color: #E8F0FE;\n",
              "      border: none;\n",
              "      border-radius: 50%;\n",
              "      cursor: pointer;\n",
              "      display: none;\n",
              "      fill: #1967D2;\n",
              "      height: 32px;\n",
              "      padding: 0 0 0 0;\n",
              "      width: 32px;\n",
              "    }\n",
              "\n",
              "    .colab-df-convert:hover {\n",
              "      background-color: #E2EBFA;\n",
              "      box-shadow: 0px 1px 2px rgba(60, 64, 67, 0.3), 0px 1px 3px 1px rgba(60, 64, 67, 0.15);\n",
              "      fill: #174EA6;\n",
              "    }\n",
              "\n",
              "    [theme=dark] .colab-df-convert {\n",
              "      background-color: #3B4455;\n",
              "      fill: #D2E3FC;\n",
              "    }\n",
              "\n",
              "    [theme=dark] .colab-df-convert:hover {\n",
              "      background-color: #434B5C;\n",
              "      box-shadow: 0px 1px 3px 1px rgba(0, 0, 0, 0.15);\n",
              "      filter: drop-shadow(0px 1px 2px rgba(0, 0, 0, 0.3));\n",
              "      fill: #FFFFFF;\n",
              "    }\n",
              "  </style>\n",
              "\n",
              "      <script>\n",
              "        const buttonEl =\n",
              "          document.querySelector('#df-d8bb9cec-7c98-423f-8113-85d3da666258 button.colab-df-convert');\n",
              "        buttonEl.style.display =\n",
              "          google.colab.kernel.accessAllowed ? 'block' : 'none';\n",
              "\n",
              "        async function convertToInteractive(key) {\n",
              "          const element = document.querySelector('#df-d8bb9cec-7c98-423f-8113-85d3da666258');\n",
              "          const dataTable =\n",
              "            await google.colab.kernel.invokeFunction('convertToInteractive',\n",
              "                                                     [key], {});\n",
              "          if (!dataTable) return;\n",
              "\n",
              "          const docLinkHtml = 'Like what you see? Visit the ' +\n",
              "            '<a target=\"_blank\" href=https://colab.research.google.com/notebooks/data_table.ipynb>data table notebook</a>'\n",
              "            + ' to learn more about interactive tables.';\n",
              "          element.innerHTML = '';\n",
              "          dataTable['output_type'] = 'display_data';\n",
              "          await google.colab.output.renderOutput(dataTable, element);\n",
              "          const docLink = document.createElement('div');\n",
              "          docLink.innerHTML = docLinkHtml;\n",
              "          element.appendChild(docLink);\n",
              "        }\n",
              "      </script>\n",
              "    </div>\n",
              "  </div>\n",
              "  "
            ]
          },
          "metadata": {},
          "execution_count": 18
        }
      ]
    },
    {
      "cell_type": "code",
      "source": [
        "positive_case[\"Total\"] = \"% of Total\"\n",
        "tgt_agg =  positive_case.groupby([\"Total\"]).aggregate({'mort_hosp':'mean', 'mort_icu':'mean', 'los_3':'mean','los_7':'mean'})\n",
        "#tgt_agg = tgt_agg.reset_index()\n",
        "tgt_agg = (tgt_agg) * 100\n",
        "tgt_agg.head(10)"
      ],
      "metadata": {
        "colab": {
          "base_uri": "https://localhost:8080/",
          "height": 112
        },
        "id": "E8SthDfOxgh-",
        "outputId": "565dacde-a77c-4562-8a12-b9dd8b3d7a05"
      },
      "execution_count": null,
      "outputs": [
        {
          "output_type": "execute_result",
          "data": {
            "text/plain": [
              "            mort_hosp  mort_icu      los_3     los_7\n",
              "Total                                               \n",
              "% of Total  10.619135  7.054275  43.231009  7.822889"
            ],
            "text/html": [
              "\n",
              "  <div id=\"df-aea20d8b-83fe-4d07-a3e0-da3799da9d5f\">\n",
              "    <div class=\"colab-df-container\">\n",
              "      <div>\n",
              "<style scoped>\n",
              "    .dataframe tbody tr th:only-of-type {\n",
              "        vertical-align: middle;\n",
              "    }\n",
              "\n",
              "    .dataframe tbody tr th {\n",
              "        vertical-align: top;\n",
              "    }\n",
              "\n",
              "    .dataframe thead th {\n",
              "        text-align: right;\n",
              "    }\n",
              "</style>\n",
              "<table border=\"1\" class=\"dataframe\">\n",
              "  <thead>\n",
              "    <tr style=\"text-align: right;\">\n",
              "      <th></th>\n",
              "      <th>mort_hosp</th>\n",
              "      <th>mort_icu</th>\n",
              "      <th>los_3</th>\n",
              "      <th>los_7</th>\n",
              "    </tr>\n",
              "    <tr>\n",
              "      <th>Total</th>\n",
              "      <th></th>\n",
              "      <th></th>\n",
              "      <th></th>\n",
              "      <th></th>\n",
              "    </tr>\n",
              "  </thead>\n",
              "  <tbody>\n",
              "    <tr>\n",
              "      <th>% of Total</th>\n",
              "      <td>10.619135</td>\n",
              "      <td>7.054275</td>\n",
              "      <td>43.231009</td>\n",
              "      <td>7.822889</td>\n",
              "    </tr>\n",
              "  </tbody>\n",
              "</table>\n",
              "</div>\n",
              "      <button class=\"colab-df-convert\" onclick=\"convertToInteractive('df-aea20d8b-83fe-4d07-a3e0-da3799da9d5f')\"\n",
              "              title=\"Convert this dataframe to an interactive table.\"\n",
              "              style=\"display:none;\">\n",
              "        \n",
              "  <svg xmlns=\"http://www.w3.org/2000/svg\" height=\"24px\"viewBox=\"0 0 24 24\"\n",
              "       width=\"24px\">\n",
              "    <path d=\"M0 0h24v24H0V0z\" fill=\"none\"/>\n",
              "    <path d=\"M18.56 5.44l.94 2.06.94-2.06 2.06-.94-2.06-.94-.94-2.06-.94 2.06-2.06.94zm-11 1L8.5 8.5l.94-2.06 2.06-.94-2.06-.94L8.5 2.5l-.94 2.06-2.06.94zm10 10l.94 2.06.94-2.06 2.06-.94-2.06-.94-.94-2.06-.94 2.06-2.06.94z\"/><path d=\"M17.41 7.96l-1.37-1.37c-.4-.4-.92-.59-1.43-.59-.52 0-1.04.2-1.43.59L10.3 9.45l-7.72 7.72c-.78.78-.78 2.05 0 2.83L4 21.41c.39.39.9.59 1.41.59.51 0 1.02-.2 1.41-.59l7.78-7.78 2.81-2.81c.8-.78.8-2.07 0-2.86zM5.41 20L4 18.59l7.72-7.72 1.47 1.35L5.41 20z\"/>\n",
              "  </svg>\n",
              "      </button>\n",
              "      \n",
              "  <style>\n",
              "    .colab-df-container {\n",
              "      display:flex;\n",
              "      flex-wrap:wrap;\n",
              "      gap: 12px;\n",
              "    }\n",
              "\n",
              "    .colab-df-convert {\n",
              "      background-color: #E8F0FE;\n",
              "      border: none;\n",
              "      border-radius: 50%;\n",
              "      cursor: pointer;\n",
              "      display: none;\n",
              "      fill: #1967D2;\n",
              "      height: 32px;\n",
              "      padding: 0 0 0 0;\n",
              "      width: 32px;\n",
              "    }\n",
              "\n",
              "    .colab-df-convert:hover {\n",
              "      background-color: #E2EBFA;\n",
              "      box-shadow: 0px 1px 2px rgba(60, 64, 67, 0.3), 0px 1px 3px 1px rgba(60, 64, 67, 0.15);\n",
              "      fill: #174EA6;\n",
              "    }\n",
              "\n",
              "    [theme=dark] .colab-df-convert {\n",
              "      background-color: #3B4455;\n",
              "      fill: #D2E3FC;\n",
              "    }\n",
              "\n",
              "    [theme=dark] .colab-df-convert:hover {\n",
              "      background-color: #434B5C;\n",
              "      box-shadow: 0px 1px 3px 1px rgba(0, 0, 0, 0.15);\n",
              "      filter: drop-shadow(0px 1px 2px rgba(0, 0, 0, 0.3));\n",
              "      fill: #FFFFFF;\n",
              "    }\n",
              "  </style>\n",
              "\n",
              "      <script>\n",
              "        const buttonEl =\n",
              "          document.querySelector('#df-aea20d8b-83fe-4d07-a3e0-da3799da9d5f button.colab-df-convert');\n",
              "        buttonEl.style.display =\n",
              "          google.colab.kernel.accessAllowed ? 'block' : 'none';\n",
              "\n",
              "        async function convertToInteractive(key) {\n",
              "          const element = document.querySelector('#df-aea20d8b-83fe-4d07-a3e0-da3799da9d5f');\n",
              "          const dataTable =\n",
              "            await google.colab.kernel.invokeFunction('convertToInteractive',\n",
              "                                                     [key], {});\n",
              "          if (!dataTable) return;\n",
              "\n",
              "          const docLinkHtml = 'Like what you see? Visit the ' +\n",
              "            '<a target=\"_blank\" href=https://colab.research.google.com/notebooks/data_table.ipynb>data table notebook</a>'\n",
              "            + ' to learn more about interactive tables.';\n",
              "          element.innerHTML = '';\n",
              "          dataTable['output_type'] = 'display_data';\n",
              "          await google.colab.output.renderOutput(dataTable, element);\n",
              "          const docLink = document.createElement('div');\n",
              "          docLink.innerHTML = docLinkHtml;\n",
              "          element.appendChild(docLink);\n",
              "        }\n",
              "      </script>\n",
              "    </div>\n",
              "  </div>\n",
              "  "
            ]
          },
          "metadata": {},
          "execution_count": 21
        }
      ]
    },
    {
      "cell_type": "markdown",
      "source": [
        "After that we look into stats for the 104 different metrics that is used for the time-series data."
      ],
      "metadata": {
        "id": "BsvAuSSZAy0z"
      }
    },
    {
      "cell_type": "code",
      "source": [
        "idx = pd.IndexSlice\n",
        "data_mean = time_series_df.loc[:, idx[:,'mean']].mean(axis=0)\n",
        "data_std = time_series_df.loc[:, idx[:,'mean']].std(axis=0)\n",
        "all_array = []\n",
        "for i in range(len(data_mean)):\n",
        "  all_array.append([data_mean.index[i][0], data_mean[i], data_std[i]])\n",
        "all_array = pd.DataFrame(all_array)\n",
        "all_array.columns = [\"Feature\", \"Mean (for Mean)\", \"Std (For Mean)\"]\n",
        "display(all_array)"
      ],
      "metadata": {
        "colab": {
          "base_uri": "https://localhost:8080/",
          "height": 423
        },
        "id": "wLCPDi8t4lXG",
        "outputId": "913cad62-8265-4e4a-e4ce-3a4c2a111c9d"
      },
      "execution_count": null,
      "outputs": [
        {
          "output_type": "display_data",
          "data": {
            "text/plain": [
              "                          Feature  Mean (for Mean)  Std (For Mean)\n",
              "0        alanine aminotransferase       257.694541      896.060392\n",
              "1                         albumin         3.158978        0.692923\n",
              "2                 albumin ascites         1.826562        0.881241\n",
              "3                 albumin pleural         1.788710        0.645312\n",
              "4                   albumin urine        46.740278       93.001708\n",
              "..                            ...              ...             ...\n",
              "99                         weight        81.775630       23.435106\n",
              "100        white blood cell count        12.515663       10.179809\n",
              "101  white blood cell count urine        23.270444       76.539897\n",
              "102                            ph         7.371031        0.078669\n",
              "103                      ph urine         5.814622        0.936980\n",
              "\n",
              "[104 rows x 3 columns]"
            ],
            "text/html": [
              "\n",
              "  <div id=\"df-8d567073-92cc-4610-b811-c2e7f8a89633\">\n",
              "    <div class=\"colab-df-container\">\n",
              "      <div>\n",
              "<style scoped>\n",
              "    .dataframe tbody tr th:only-of-type {\n",
              "        vertical-align: middle;\n",
              "    }\n",
              "\n",
              "    .dataframe tbody tr th {\n",
              "        vertical-align: top;\n",
              "    }\n",
              "\n",
              "    .dataframe thead th {\n",
              "        text-align: right;\n",
              "    }\n",
              "</style>\n",
              "<table border=\"1\" class=\"dataframe\">\n",
              "  <thead>\n",
              "    <tr style=\"text-align: right;\">\n",
              "      <th></th>\n",
              "      <th>Feature</th>\n",
              "      <th>Mean (for Mean)</th>\n",
              "      <th>Std (For Mean)</th>\n",
              "    </tr>\n",
              "  </thead>\n",
              "  <tbody>\n",
              "    <tr>\n",
              "      <th>0</th>\n",
              "      <td>alanine aminotransferase</td>\n",
              "      <td>257.694541</td>\n",
              "      <td>896.060392</td>\n",
              "    </tr>\n",
              "    <tr>\n",
              "      <th>1</th>\n",
              "      <td>albumin</td>\n",
              "      <td>3.158978</td>\n",
              "      <td>0.692923</td>\n",
              "    </tr>\n",
              "    <tr>\n",
              "      <th>2</th>\n",
              "      <td>albumin ascites</td>\n",
              "      <td>1.826562</td>\n",
              "      <td>0.881241</td>\n",
              "    </tr>\n",
              "    <tr>\n",
              "      <th>3</th>\n",
              "      <td>albumin pleural</td>\n",
              "      <td>1.788710</td>\n",
              "      <td>0.645312</td>\n",
              "    </tr>\n",
              "    <tr>\n",
              "      <th>4</th>\n",
              "      <td>albumin urine</td>\n",
              "      <td>46.740278</td>\n",
              "      <td>93.001708</td>\n",
              "    </tr>\n",
              "    <tr>\n",
              "      <th>...</th>\n",
              "      <td>...</td>\n",
              "      <td>...</td>\n",
              "      <td>...</td>\n",
              "    </tr>\n",
              "    <tr>\n",
              "      <th>99</th>\n",
              "      <td>weight</td>\n",
              "      <td>81.775630</td>\n",
              "      <td>23.435106</td>\n",
              "    </tr>\n",
              "    <tr>\n",
              "      <th>100</th>\n",
              "      <td>white blood cell count</td>\n",
              "      <td>12.515663</td>\n",
              "      <td>10.179809</td>\n",
              "    </tr>\n",
              "    <tr>\n",
              "      <th>101</th>\n",
              "      <td>white blood cell count urine</td>\n",
              "      <td>23.270444</td>\n",
              "      <td>76.539897</td>\n",
              "    </tr>\n",
              "    <tr>\n",
              "      <th>102</th>\n",
              "      <td>ph</td>\n",
              "      <td>7.371031</td>\n",
              "      <td>0.078669</td>\n",
              "    </tr>\n",
              "    <tr>\n",
              "      <th>103</th>\n",
              "      <td>ph urine</td>\n",
              "      <td>5.814622</td>\n",
              "      <td>0.936980</td>\n",
              "    </tr>\n",
              "  </tbody>\n",
              "</table>\n",
              "<p>104 rows × 3 columns</p>\n",
              "</div>\n",
              "      <button class=\"colab-df-convert\" onclick=\"convertToInteractive('df-8d567073-92cc-4610-b811-c2e7f8a89633')\"\n",
              "              title=\"Convert this dataframe to an interactive table.\"\n",
              "              style=\"display:none;\">\n",
              "        \n",
              "  <svg xmlns=\"http://www.w3.org/2000/svg\" height=\"24px\"viewBox=\"0 0 24 24\"\n",
              "       width=\"24px\">\n",
              "    <path d=\"M0 0h24v24H0V0z\" fill=\"none\"/>\n",
              "    <path d=\"M18.56 5.44l.94 2.06.94-2.06 2.06-.94-2.06-.94-.94-2.06-.94 2.06-2.06.94zm-11 1L8.5 8.5l.94-2.06 2.06-.94-2.06-.94L8.5 2.5l-.94 2.06-2.06.94zm10 10l.94 2.06.94-2.06 2.06-.94-2.06-.94-.94-2.06-.94 2.06-2.06.94z\"/><path d=\"M17.41 7.96l-1.37-1.37c-.4-.4-.92-.59-1.43-.59-.52 0-1.04.2-1.43.59L10.3 9.45l-7.72 7.72c-.78.78-.78 2.05 0 2.83L4 21.41c.39.39.9.59 1.41.59.51 0 1.02-.2 1.41-.59l7.78-7.78 2.81-2.81c.8-.78.8-2.07 0-2.86zM5.41 20L4 18.59l7.72-7.72 1.47 1.35L5.41 20z\"/>\n",
              "  </svg>\n",
              "      </button>\n",
              "      \n",
              "  <style>\n",
              "    .colab-df-container {\n",
              "      display:flex;\n",
              "      flex-wrap:wrap;\n",
              "      gap: 12px;\n",
              "    }\n",
              "\n",
              "    .colab-df-convert {\n",
              "      background-color: #E8F0FE;\n",
              "      border: none;\n",
              "      border-radius: 50%;\n",
              "      cursor: pointer;\n",
              "      display: none;\n",
              "      fill: #1967D2;\n",
              "      height: 32px;\n",
              "      padding: 0 0 0 0;\n",
              "      width: 32px;\n",
              "    }\n",
              "\n",
              "    .colab-df-convert:hover {\n",
              "      background-color: #E2EBFA;\n",
              "      box-shadow: 0px 1px 2px rgba(60, 64, 67, 0.3), 0px 1px 3px 1px rgba(60, 64, 67, 0.15);\n",
              "      fill: #174EA6;\n",
              "    }\n",
              "\n",
              "    [theme=dark] .colab-df-convert {\n",
              "      background-color: #3B4455;\n",
              "      fill: #D2E3FC;\n",
              "    }\n",
              "\n",
              "    [theme=dark] .colab-df-convert:hover {\n",
              "      background-color: #434B5C;\n",
              "      box-shadow: 0px 1px 3px 1px rgba(0, 0, 0, 0.15);\n",
              "      filter: drop-shadow(0px 1px 2px rgba(0, 0, 0, 0.3));\n",
              "      fill: #FFFFFF;\n",
              "    }\n",
              "  </style>\n",
              "\n",
              "      <script>\n",
              "        const buttonEl =\n",
              "          document.querySelector('#df-8d567073-92cc-4610-b811-c2e7f8a89633 button.colab-df-convert');\n",
              "        buttonEl.style.display =\n",
              "          google.colab.kernel.accessAllowed ? 'block' : 'none';\n",
              "\n",
              "        async function convertToInteractive(key) {\n",
              "          const element = document.querySelector('#df-8d567073-92cc-4610-b811-c2e7f8a89633');\n",
              "          const dataTable =\n",
              "            await google.colab.kernel.invokeFunction('convertToInteractive',\n",
              "                                                     [key], {});\n",
              "          if (!dataTable) return;\n",
              "\n",
              "          const docLinkHtml = 'Like what you see? Visit the ' +\n",
              "            '<a target=\"_blank\" href=https://colab.research.google.com/notebooks/data_table.ipynb>data table notebook</a>'\n",
              "            + ' to learn more about interactive tables.';\n",
              "          element.innerHTML = '';\n",
              "          dataTable['output_type'] = 'display_data';\n",
              "          await google.colab.output.renderOutput(dataTable, element);\n",
              "          const docLink = document.createElement('div');\n",
              "          docLink.innerHTML = docLinkHtml;\n",
              "          element.appendChild(docLink);\n",
              "        }\n",
              "      </script>\n",
              "    </div>\n",
              "  </div>\n",
              "  "
            ]
          },
          "metadata": {}
        }
      ]
    },
    {
      "cell_type": "markdown",
      "source": [
        "Finally, let's look into the notes dataset and see what type of notes are been used."
      ],
      "metadata": {
        "id": "BpDRGHcjzLNt"
      }
    },
    {
      "cell_type": "code",
      "source": [
        "clinical_notes_df['CATEGORY'].value_counts().plot(kind='bar',title=\"Note Counts per category\", xlabel = \"Category\", ylabel = \"Counts\")"
      ],
      "metadata": {
        "colab": {
          "base_uri": "https://localhost:8080/",
          "height": 610
        },
        "id": "x1pMf-_nB_Mf",
        "outputId": "5a14edb0-0d47-4a56-9f3b-710fd33e0fae"
      },
      "execution_count": null,
      "outputs": [
        {
          "output_type": "execute_result",
          "data": {
            "text/plain": [
              "<Axes: title={'center': 'Note Counts per category'}, xlabel='Category', ylabel='Counts'>"
            ]
          },
          "metadata": {},
          "execution_count": 14
        },
        {
          "output_type": "display_data",
          "data": {
            "text/plain": [
              "<Figure size 640x480 with 1 Axes>"
            ],
            "image/png": "[encoded data removed]"
          },
          "metadata": {}
        }
      ]
    },
    {
      "cell_type": "markdown",
      "source": [
        "# **Data Split and Feature Creation**"
      ],
      "metadata": {
        "id": "GLi7w0O4FpP7"
      }
    },
    {
      "cell_type": "markdown",
      "source": [
        "After we have our dataset reday now, we will work on feature creation:\n",
        "\n",
        "**Vital Labs\\Time-series Data:**\n",
        "\n",
        "- Frist we split the data into training (70%), validation (10%) and testing(20%)\n",
        "- After that the training data is used to normalized the enterity of the dataset.\n",
        "- After we have the normalized data, the vital-labs data goes through the data preperation where the Null values (NA) are been elimiated using forward fill technique per patient. "
      ],
      "metadata": {
        "id": "Hn5E0995EF_a"
      }
    },
    {
      "cell_type": "code",
      "execution_count": null,
      "metadata": {
        "id": "eWPFd0CQ7xJa"
      },
      "outputs": [],
      "source": [
        "SEED = 10\n",
        "\n",
        "#Train, Valildation and Test Percentages.\n",
        "train_perc = 0.7\n",
        "val_perc = 0.1\n",
        "test_perc = 0.2\n",
        "\n",
        "#Get all the Patient ID (Subject ID) from the data, and put it in a set.\n",
        "patient_ids = time_series_df.index.get_level_values('subject_id')\n",
        "patient_set = set(patient_ids)\n",
        "\n",
        "#Now generate Train, Validation and Test Sets randomly.\n",
        "np.random.seed(SEED)\n",
        "patient_set = np.random.permutation(list(patient_set))\n",
        "data_len = len(patient_set)\n",
        "\n",
        "N_train, N_val, N_test = int(train_perc * data_len), int(val_perc * data_len), int(test_perc * data_len)\n",
        "\n",
        "train_ids = patient_set[:N_train]\n",
        "val_ids   = patient_set[N_train:N_train + N_val]\n",
        "test_ids  = patient_set[N_train+N_val:]\n",
        "\n",
        "time_series_trn = time_series_df[time_series_df.index.get_level_values('subject_id').isin(train_ids)]\n",
        "time_series_val = time_series_df[time_series_df.index.get_level_values('subject_id').isin(val_ids)]\n",
        "time_series_tst = time_series_df[time_series_df.index.get_level_values('subject_id').isin(test_ids)]"
      ]
    },
    {
      "cell_type": "code",
      "execution_count": null,
      "metadata": {
        "id": "D-WozDYs-P5e"
      },
      "outputs": [],
      "source": [
        "%%capture\n",
        "data_mean = time_series_trn.loc[:, idx[:,'mean']].mean(axis=0)\n",
        "data_std = time_series_trn.loc[:, idx[:,'mean']].std(axis=0)\n",
        "\n",
        "time_series_trn.loc[:, idx[:,'mean']] = (time_series_trn.loc[:, idx[:,'mean']] - data_mean)/data_std\n",
        "time_series_val.loc[:, idx[:,'mean']] = (time_series_val.loc[:, idx[:,'mean']] - data_mean)/data_std\n",
        "time_series_tst.loc[:, idx[:,'mean']] = (time_series_tst.loc[:, idx[:,'mean']] - data_mean)/data_std"
      ]
    },
    {
      "cell_type": "code",
      "execution_count": null,
      "metadata": {
        "id": "lWaFZ0t-KGmn"
      },
      "outputs": [],
      "source": [
        "time_series_trn = data_prep_time_series(time_series_trn)\n",
        "time_series_val = data_prep_time_series(time_series_val)\n",
        "time_series_tst = data_prep_time_series(time_series_tst)"
      ]
    },
    {
      "cell_type": "markdown",
      "source": [
        "**Clinical Notes:**\n",
        "\n",
        "- Clinical notes data uses the same split done for traning, validation and testing.\n",
        "- After that the data goes through the entity extraction and creating the embeding vector for those entity using word2Vec method.  "
      ],
      "metadata": {
        "id": "e_TQz6Z1Ezws"
      }
    },
    {
      "cell_type": "code",
      "source": [
        "clinical_notes_df = clinical_notes_df.sort_values(['SUBJECT_ID']).reset_index(drop=True)\n",
        "clinical_notes_df = clinical_notes_df.groupby([\"SUBJECT_ID\"]).aggregate({'embd':list})\n",
        "clinical_notes_df = clinical_notes_df.reset_index()"
      ],
      "metadata": {
        "id": "lKa0C_lhCO7y"
      },
      "execution_count": null,
      "outputs": []
    },
    {
      "cell_type": "code",
      "source": [
        "clinical_notes_trn = clinical_notes_df[clinical_notes_df['SUBJECT_ID'].isin(train_ids)]\n",
        "clinical_notes_val = clinical_notes_df[clinical_notes_df['SUBJECT_ID'].isin(val_ids)]\n",
        "clinical_notes_tst = clinical_notes_df[clinical_notes_df['SUBJECT_ID'].isin(test_ids)]"
      ],
      "metadata": {
        "id": "bUQzB2YH0uoE"
      },
      "execution_count": null,
      "outputs": []
    },
    {
      "cell_type": "code",
      "source": [
        "patients_df = patients_df.sort_values(['SUBJECT_ID']).reset_index(drop=True)"
      ],
      "metadata": {
        "id": "4gbVMpzytgn6"
      },
      "execution_count": null,
      "outputs": []
    },
    {
      "cell_type": "markdown",
      "source": [
        "Finally, before converting to pytorch we make sure that all the data is ordered in the right way so that the data is aligned for the training."
      ],
      "metadata": {
        "id": "xvhiZqsdFJVk"
      }
    },
    {
      "cell_type": "code",
      "source": [
        "ts_trn_ids = np.array(time_series_trn.index.get_level_values('subject_id')).reshape(-1,24)[:,0]\n",
        "ts_val_ids = np.array(time_series_val.index.get_level_values('subject_id')).reshape(-1,24)[:,0]\n",
        "ts_tst_ids = np.array(time_series_tst.index.get_level_values('subject_id')).reshape(-1,24)[:,0]\n",
        "\n",
        "notes_trn_ids = (clinical_notes_trn[\"SUBJECT_ID\"]).values\n",
        "notes_val_ids = (clinical_notes_val[\"SUBJECT_ID\"]).values\n",
        "notes_tst_ids = (clinical_notes_tst[\"SUBJECT_ID\"]).values\n",
        "\n",
        "trg_trn_ids = (patients_df[patients_df[\"SUBJECT_ID\"].isin(train_ids)][\"SUBJECT_ID\"]).values\n",
        "trg_val_ids = (patients_df[patients_df[\"SUBJECT_ID\"].isin(val_ids)][\"SUBJECT_ID\"]).values\n",
        "trg_tst_ids = (patients_df[patients_df[\"SUBJECT_ID\"].isin(test_ids)][\"SUBJECT_ID\"]).values\n",
        "\n",
        "### Data Alingement Check\n",
        "trn_align_tst = sum(ts_trn_ids - notes_trn_ids) + sum(ts_trn_ids - trg_trn_ids)\n",
        "val_align_tst = sum(ts_val_ids - notes_val_ids) + sum(ts_val_ids - trg_val_ids)\n",
        "tst_align_tst = sum(ts_tst_ids - notes_tst_ids) + sum(ts_tst_ids - trg_tst_ids)\n",
        "print(\"Training Alignment Error? {}\".format(trn_align_tst != 0))\n",
        "print(\"Validation Alignment Error? {}\".format(val_align_tst != 0))\n",
        "print(\"Test Alignment Error? {}\".format(tst_align_tst != 0))"
      ],
      "metadata": {
        "colab": {
          "base_uri": "https://localhost:8080/"
        },
        "id": "gl81O6WbftgV",
        "outputId": "d88cf1cd-ae60-47c8-bac0-cfae1194d109"
      },
      "execution_count": null,
      "outputs": [
        {
          "output_type": "stream",
          "name": "stdout",
          "text": [
            "Training Alignment Error? False\n",
            "Validation Alignment Error? False\n",
            "Test Alignment Error? False\n"
          ]
        }
      ]
    },
    {
      "cell_type": "markdown",
      "source": [
        "Next, data is converted from pandas data-frame to pytorch tensors that is going to be used for model traning, validation and testing. "
      ],
      "metadata": {
        "id": "kUBP55ViFTO8"
      }
    },
    {
      "cell_type": "code",
      "execution_count": null,
      "metadata": {
        "colab": {
          "base_uri": "https://localhost:8080/"
        },
        "id": "Lj_1g4i7Mhd1",
        "outputId": "1ba83458-d88b-4b9e-8514-f53d4ba56fb4"
      },
      "outputs": [
        {
          "output_type": "stream",
          "name": "stdout",
          "text": [
            "Time-series tranining data size: torch.Size([14844, 24, 104])\n",
            "Time-series validation data size: torch.Size([2120, 24, 104])\n",
            "Time-series test data size: torch.Size([4243, 24, 104])\n"
          ]
        }
      ],
      "source": [
        "time_series_trn_py_torch = torch.tensor(time_series_trn.loc[:, idx[:, 'mean']].values).float()\n",
        "time_series_val_py_torch = torch.tensor(time_series_val.loc[:, idx[:, 'mean']].values).float()\n",
        "time_series_tst_py_torch = torch.tensor(time_series_tst.loc[:, idx[:, 'mean']].values).float()\n",
        "\n",
        "time_series_trn_py_torch = torch.reshape(time_series_trn_py_torch, (int(time_series_trn_py_torch.size()[0]/24), 24,104))\n",
        "time_series_val_py_torch = torch.reshape(time_series_val_py_torch, (int(time_series_val_py_torch.size()[0]/24), 24,104))\n",
        "time_series_tst_py_torch = torch.reshape(time_series_tst_py_torch, (int(time_series_tst_py_torch.size()[0]/24), 24,104))\n",
        "\n",
        "print(\"Time-series tranining data size: {}\".format(time_series_trn_py_torch.size()))\n",
        "print(\"Time-series validation data size: {}\".format(time_series_val_py_torch.size()))\n",
        "print(\"Time-series test data size: {}\".format(time_series_tst_py_torch.size()))"
      ]
    },
    {
      "cell_type": "code",
      "source": [
        "notes_trn_ids, notes_trn_py_torch = get_embd_array(clinical_notes_trn)\n",
        "notes_tst_ids, notes_val_py_torch = get_embd_array(clinical_notes_val)\n",
        "notes_val_ids, notes_tst_py_torch = get_embd_array(clinical_notes_tst)\n",
        "\n",
        "notes_trn_py_torch = torch.tensor(notes_trn_py_torch).float()\n",
        "notes_val_py_torch = torch.tensor(notes_val_py_torch).float()\n",
        "notes_tst_py_torch = torch.tensor(notes_tst_py_torch).float()"
      ],
      "metadata": {
        "id": "YDRSax999TGU"
      },
      "execution_count": null,
      "outputs": []
    },
    {
      "cell_type": "code",
      "source": [
        "print(\"Clinical Notes tranining data size: {}\".format(notes_trn_py_torch.size()))\n",
        "print(\"Clinical Notes validation data size: {}\".format(notes_val_py_torch.size()))\n",
        "print(\"Clinical Notes test data size: {}\".format(notes_tst_py_torch.size()))"
      ],
      "metadata": {
        "colab": {
          "base_uri": "https://localhost:8080/"
        },
        "id": "S35hdUxH9ZBr",
        "outputId": "3c74690e-1e13-4813-84f4-b480306b8147"
      },
      "execution_count": null,
      "outputs": [
        {
          "output_type": "stream",
          "name": "stdout",
          "text": [
            "Clinical Notes tranining data size: torch.Size([14844, 64, 100])\n",
            "Clinical Notes validation data size: torch.Size([2120, 64, 100])\n",
            "Clinical Notes test data size: torch.Size([4243, 64, 100])\n"
          ]
        }
      ]
    },
    {
      "cell_type": "code",
      "execution_count": null,
      "metadata": {
        "colab": {
          "base_uri": "https://localhost:8080/"
        },
        "id": "lUjdOQbgcrCA",
        "outputId": "f3931d07-d92c-4a3d-df25-e458ea74dad4"
      },
      "outputs": [
        {
          "output_type": "stream",
          "name": "stdout",
          "text": [
            "Hospital Mortality train data size: torch.Size([14844])\n",
            "Hospital Mortality validation data size: torch.Size([2120])\n",
            "Hospital Mortality test data size: torch.Size([4243])\n",
            "Hospital Mortality train data size: torch.Size([14844])\n",
            "Hospital Mortality validation data size: torch.Size([2120])\n",
            "Hospital Mortality test data size: torch.Size([4243])\n",
            "Hospital Mortality train data size: torch.Size([14844])\n",
            "Hospital Mortality validation data size: torch.Size([2120])\n",
            "Hospital Mortality test data size: torch.Size([4243])\n",
            "Hospital Mortality train data size: torch.Size([14844])\n",
            "Hospital Mortality validation data size: torch.Size([2120])\n",
            "Hospital Mortality test data size: torch.Size([4243])\n"
          ]
        }
      ],
      "source": [
        "y_trn = patients_df[patients_df['SUBJECT_ID'].isin(train_ids)]\n",
        "y_val = patients_df[patients_df['SUBJECT_ID'].isin(val_ids)]\n",
        "y_tst = patients_df[patients_df['SUBJECT_ID'].isin(test_ids)]\n",
        "y_trn_mort_hosp = torch.tensor(y_trn[\"mort_hosp\"].values).float()\n",
        "y_val_mort_hosp = torch.tensor(y_val[\"mort_hosp\"].values).float()\n",
        "y_tst_mort_hosp = torch.tensor(y_tst[\"mort_hosp\"].values).float()\n",
        "\n",
        "y_trn_mort_icu = torch.tensor(y_trn[\"mort_icu\"].values).float()\n",
        "y_val_mort_icu = torch.tensor(y_val[\"mort_icu\"].values).float()\n",
        "y_tst_mort_icu = torch.tensor(y_tst[\"mort_icu\"].values).float()\n",
        "\n",
        "y_trn_los_3 = torch.tensor(y_trn[\"los_3\"].values).float()\n",
        "y_val_los_3 = torch.tensor(y_val[\"los_3\"].values).float()\n",
        "y_tst_los_3 = torch.tensor(y_tst[\"los_3\"].values).float()\n",
        "\n",
        "y_trn_los_7 = torch.tensor(y_trn[\"los_7\"].values).float()\n",
        "y_val_los_7 = torch.tensor(y_val[\"los_7\"].values).float()\n",
        "y_tst_los_7 = torch.tensor(y_tst[\"los_7\"].values).float()\n",
        "\n",
        "print(\"Hospital Mortality train data size: {}\".format(y_trn_mort_hosp.size()))\n",
        "print(\"Hospital Mortality validation data size: {}\".format(y_val_mort_hosp.size()))\n",
        "print(\"Hospital Mortality test data size: {}\".format(y_tst_mort_hosp.size()))\n",
        "\n",
        "print(\"Hospital Mortality train data size: {}\".format(y_trn_mort_icu.size()))\n",
        "print(\"Hospital Mortality validation data size: {}\".format(y_val_mort_icu.size()))\n",
        "print(\"Hospital Mortality test data size: {}\".format(y_tst_mort_icu.size()))\n",
        "\n",
        "print(\"Hospital Mortality train data size: {}\".format(y_trn_los_3.size()))\n",
        "print(\"Hospital Mortality validation data size: {}\".format(y_val_los_3.size()))\n",
        "print(\"Hospital Mortality test data size: {}\".format(y_tst_los_3.size()))\n",
        "\n",
        "print(\"Hospital Mortality train data size: {}\".format(y_trn_los_7.size()))\n",
        "print(\"Hospital Mortality validation data size: {}\".format(y_val_los_7.size()))\n",
        "print(\"Hospital Mortality test data size: {}\".format(y_tst_los_7.size()))"
      ]
    },
    {
      "cell_type": "markdown",
      "source": [
        "# **Model Traning, Validation and Testing**"
      ],
      "metadata": {
        "id": "eW15E1H9Fx4X"
      }
    },
    {
      "cell_type": "markdown",
      "source": [
        "After the feature creation, we go through the model traning, validaiton and testing:\n",
        "\n",
        "- There are three models used (base-model, multi-model and transformer-model). Please refer the library file for the detail of the model implementation. Transformer model here is a additional model which is not part of original paper.\n",
        "- Each model does have early stop creiteria (details in library file). This is how that works, if the validation loss doesn't improve until the patience period (which is set as 5) the model traning will exit. \n",
        "- Also, the model checkpoint is used where the model which has the least validation loss is saved and reterived later on after the traning is done.\n",
        "- The model selected from above process is used for prediction in test-data.\n",
        "- The result reported is from the test data. The overall process of training, validation and testing is carried out for five different times and the average results is reported."
      ],
      "metadata": {
        "id": "a6gPViLCGACi"
      }
    },
    {
      "cell_type": "code",
      "source": [
        "from torch.utils.data import DataLoader\n",
        "\n",
        "batch_size = 128\n",
        "max_epoch = 100\n",
        "lern_rate = 0.001\n",
        "\n",
        "y_typ_list = ['mort_hosp', 'mort_icu', 'los_3', 'los_7']\n",
        "y_trn_list = [y_trn_mort_hosp, y_trn_mort_icu, y_trn_los_3, y_trn_los_7]\n",
        "y_val_list = [y_val_mort_hosp, y_val_mort_icu, y_val_los_3, y_val_los_7]\n",
        "y_tst_list = [y_tst_mort_hosp, y_tst_mort_icu, y_tst_los_3, y_tst_los_7]\n",
        "\n",
        "criterion = nn.BCELoss()\n",
        "all_run_result = SaveAllResults(\"./drive/MyDrive/DLHC-Data/pre_processed_data/models/results.pk1\")\n",
        "for run in range(5):\n",
        "  print(\"RUN--------{:.4f}\".format((run+1)))\n",
        "  all_result = []\n",
        "  for y_typ, y_trn, y_val, y_tst in zip(y_typ_list, y_trn_list, y_val_list, y_tst_list):\n",
        "    print(\"#####################################################################\")\n",
        "    print(y_typ)\n",
        "    trn_dataset = CustomDataset(time_series_trn_py_torch, notes_trn_py_torch, y_trn)\n",
        "    val_dataset = CustomDataset(time_series_val_py_torch, notes_val_py_torch, y_val)\n",
        "    tst_dataset = CustomDataset(time_series_tst_py_torch, notes_tst_py_torch, y_tst)\n",
        "\n",
        "    trn_loader = DataLoader(trn_dataset, batch_size=batch_size, shuffle=True)\n",
        "    val_loader = DataLoader(val_dataset, batch_size=batch_size, shuffle=False)\n",
        "    tst_loader = DataLoader(tst_dataset, batch_size=batch_size, shuffle=False)\n",
        "\n",
        "    print(\"######BASE MODEL#####\")\n",
        "    model_name = \"base_model_\" + y_typ\n",
        "    basemodel = BaseModel(input_size=104, hidden_size=256)\n",
        "    basemodel = train_model(basemodel,trn_loader,val_loader, model_name, n_epochs = max_epoch, lr = lern_rate, patience = 5, lr_scheduler=True)\n",
        "    auroc, auprc, f1, acc, tst_loss = eval_model(basemodel, tst_loader, criterion)\n",
        "    print('Test auroc: {:.4f}, auprc:{:.4f}, f1: {:.4f}, acc: {:.4f}'.format(auroc, auprc, f1, acc))\n",
        "    all_run_result.save_result(y_typ, \"base_model\", (run+1), auroc, auprc, f1, acc) \n",
        "\n",
        "    print(\"######MULTI MODEL#######\")\n",
        "    model_name = \"multi_model_\" + y_typ\n",
        "    multi_model = MultiModel(input_size=104, hidden_size=256, filter_size=32)\n",
        "    multi_model = train_model(multi_model,trn_loader,val_loader, model_name, n_epochs = max_epoch, lr = lern_rate, patience = 5, lr_scheduler=True)\n",
        "    auroc, auprc, f1, acc, tst_loss = eval_model(multi_model, tst_loader, criterion)\n",
        "    print('Test auroc: {:.4f}, auprc:{:.4f}, f1: {:.4f}, acc: {:.4f}'.format(auroc, auprc, f1, acc))\n",
        "    all_run_result.save_result(y_typ, \"multi_model\", (run+1), auroc, auprc, f1, acc) \n",
        "\n",
        "    print(\"#######TRANSFORMER MODEL#######\")\n",
        "    model_name = \"transformer_model_\" + y_typ\n",
        "    trn_model = TransformerModel(input_size=104, num_heads=8, num_layers=1)\n",
        "    trn_model = train_model(trn_model,trn_loader,val_loader, model_name, n_epochs = max_epoch, lr = lern_rate, patience = 5, lr_scheduler=True)\n",
        "    auroc, auprc, f1, acc, tst_loss = eval_model(trn_model, tst_loader, criterion)\n",
        "    print('Test auroc: {:.4f}, auprc:{:.4f}, f1: {:.4f}, acc: {:.4f}'.format(auroc, auprc, f1, acc))\n",
        "    all_run_result.save_result(y_typ, \"transformer_model\", (run+1), auroc, auprc, f1, acc) \n",
        "                           "
      ],
      "metadata": {
        "id": "yU_NsXA_uyJk"
      },
      "execution_count": null,
      "outputs": []
    },
    {
      "cell_type": "markdown",
      "source": [
        "The printed output of each run above was deleted because the log was really long. Below table shows all the results for each run, which was used to report the result."
      ],
      "metadata": {
        "id": "wYxtINBTCZOW"
      }
    },
    {
      "cell_type": "code",
      "source": [
        "all_run_result = SaveAllResults(\"./drive/MyDrive/DLHC-Data/pre_processed_data/models/results.pk1\")\n",
        "all_run = all_run_result.get_result()\n",
        "all_run = all_run.sort_values(['run_id', 'var_name','model_name']).reset_index(drop=True)\n",
        "all_run.head(100)"
      ],
      "metadata": {
        "colab": {
          "base_uri": "https://localhost:8080/",
          "height": 1000
        },
        "id": "5eV6dI51WoK9",
        "outputId": "626c7427-9f33-4737-987e-7c0cebe657da"
      },
      "execution_count": null,
      "outputs": [
        {
          "output_type": "execute_result",
          "data": {
            "text/plain": [
              "     var_name         model_name  run_id     auroc     auprc        f1  \\\n",
              "0       los_3         base_model       1  0.686103  0.630927  0.526484   \n",
              "1       los_3        multi_model       1  0.689697  0.636548  0.541944   \n",
              "2       los_3  transformer_model       1  0.694085  0.634910  0.519256   \n",
              "3       los_7         base_model       1  0.700557  0.176523  0.000000   \n",
              "4       los_7        multi_model       1  0.690962  0.173636  0.017751   \n",
              "5       los_7  transformer_model       1  0.716034  0.189339  0.000000   \n",
              "6   mort_hosp         base_model       1  0.854717  0.511226  0.385294   \n",
              "7   mort_hosp        multi_model       1  0.856073  0.498737  0.375963   \n",
              "8   mort_hosp  transformer_model       1  0.861665  0.530665  0.336026   \n",
              "9    mort_icu         base_model       1  0.883021  0.466147  0.361174   \n",
              "10   mort_icu        multi_model       1  0.876503  0.451819  0.340633   \n",
              "11   mort_icu  transformer_model       1  0.891155  0.480673  0.304124   \n",
              "12      los_3         base_model       2  0.686255  0.630890  0.524442   \n",
              "13      los_3        multi_model       2  0.687452  0.632938  0.548765   \n",
              "14      los_3  transformer_model       2  0.694167  0.636329  0.537697   \n",
              "15      los_7         base_model       2  0.674165  0.162122  0.000000   \n",
              "16      los_7        multi_model       2  0.703190  0.179511  0.000000   \n",
              "17      los_7  transformer_model       2  0.716295  0.185141  0.000000   \n",
              "18  mort_hosp         base_model       2  0.854976  0.512397  0.382916   \n",
              "19  mort_hosp        multi_model       2  0.855935  0.500775  0.372372   \n",
              "20  mort_hosp  transformer_model       2  0.858588  0.525307  0.343949   \n",
              "21   mort_icu         base_model       2  0.876047  0.457389  0.345455   \n",
              "22   mort_icu        multi_model       2  0.876416  0.451152  0.341463   \n",
              "23   mort_icu  transformer_model       2  0.887489  0.487318  0.275676   \n",
              "24      los_3         base_model       3  0.686562  0.631110  0.530090   \n",
              "25      los_3        multi_model       3  0.683619  0.630524  0.527706   \n",
              "26      los_3  transformer_model       3  0.694042  0.635156  0.533505   \n",
              "27      los_7         base_model       3  0.705099  0.189716  0.000000   \n",
              "28      los_7        multi_model       3  0.703435  0.177077  0.011905   \n",
              "29      los_7  transformer_model       3  0.716237  0.184432  0.000000   \n",
              "30  mort_hosp         base_model       3  0.854371  0.512271  0.382353   \n",
              "31  mort_hosp        multi_model       3  0.854901  0.500567  0.367284   \n",
              "32  mort_hosp  transformer_model       3  0.862787  0.532398  0.315789   \n",
              "33   mort_icu         base_model       3  0.882142  0.464903  0.355353   \n",
              "34   mort_icu        multi_model       3  0.876854  0.455783  0.359712   \n",
              "35   mort_icu  transformer_model       3  0.885266  0.474592  0.339152   \n",
              "36      los_3         base_model       4  0.686304  0.630885  0.523346   \n",
              "37      los_3        multi_model       4  0.684534  0.630817  0.532529   \n",
              "38      los_3  transformer_model       4  0.692560  0.634379  0.534824   \n",
              "39      los_7         base_model       4  0.693459  0.180919  0.000000   \n",
              "40      los_7        multi_model       4  0.702152  0.178453  0.017699   \n",
              "41      los_7  transformer_model       4  0.718624  0.190999  0.000000   \n",
              "42  mort_hosp         base_model       4  0.856138  0.514840  0.384728   \n",
              "43  mort_hosp        multi_model       4  0.850850  0.495548  0.360248   \n",
              "44  mort_hosp  transformer_model       4  0.862635  0.534762  0.344156   \n",
              "45   mort_icu         base_model       4  0.882293  0.450232  0.338747   \n",
              "46   mort_icu        multi_model       4  0.875580  0.451310  0.338235   \n",
              "47   mort_icu  transformer_model       4  0.889016  0.472739  0.279683   \n",
              "48      los_3         base_model       5  0.683128  0.628154  0.544718   \n",
              "49      los_3        multi_model       5  0.684394  0.631303  0.538074   \n",
              "50      los_3  transformer_model       5  0.694570  0.635733  0.539601   \n",
              "51      los_7         base_model       5  0.705207  0.184992  0.000000   \n",
              "52      los_7        multi_model       5  0.698483  0.174336  0.005988   \n",
              "53      los_7  transformer_model       5  0.717209  0.192346  0.000000   \n",
              "54  mort_hosp         base_model       5  0.853593  0.510508  0.359820   \n",
              "55  mort_hosp        multi_model       5  0.851946  0.495705  0.353678   \n",
              "56  mort_hosp  transformer_model       5  0.859112  0.524312  0.346709   \n",
              "57   mort_icu         base_model       5  0.880128  0.443223  0.365688   \n",
              "58   mort_icu        multi_model       5  0.875967  0.450642  0.334975   \n",
              "59   mort_icu  transformer_model       5  0.883283  0.462499  0.281167   \n",
              "\n",
              "         acc  \n",
              "0   0.650247  \n",
              "1   0.658968  \n",
              "2   0.658732  \n",
              "3   0.921753  \n",
              "4   0.921753  \n",
              "5   0.921753  \n",
              "6   0.901485  \n",
              "7   0.904549  \n",
              "8   0.903135  \n",
              "9   0.933302  \n",
              "10  0.936130  \n",
              "11  0.936366  \n",
              "12  0.653783  \n",
              "13  0.655432  \n",
              "14  0.660382  \n",
              "15  0.921753  \n",
              "16  0.921753  \n",
              "17  0.921753  \n",
              "18  0.901249  \n",
              "19  0.901485  \n",
              "20  0.902899  \n",
              "21  0.932123  \n",
              "22  0.936366  \n",
              "23  0.936837  \n",
              "24  0.654018  \n",
              "25  0.654490  \n",
              "26  0.658732  \n",
              "27  0.921753  \n",
              "28  0.921753  \n",
              "29  0.921753  \n",
              "30  0.901013  \n",
              "31  0.903370  \n",
              "32  0.901956  \n",
              "33  0.933302  \n",
              "34  0.937073  \n",
              "35  0.937544  \n",
              "36  0.653547  \n",
              "37  0.652840  \n",
              "38  0.656847  \n",
              "39  0.921753  \n",
              "40  0.921518  \n",
              "41  0.921753  \n",
              "42  0.901249  \n",
              "43  0.902899  \n",
              "44  0.904784  \n",
              "45  0.932831  \n",
              "46  0.936366  \n",
              "47  0.935659  \n",
              "48  0.655668  \n",
              "49  0.654018  \n",
              "50  0.662974  \n",
              "51  0.921753  \n",
              "52  0.921753  \n",
              "53  0.921753  \n",
              "54  0.899364  \n",
              "55  0.902663  \n",
              "56  0.904077  \n",
              "57  0.933773  \n",
              "58  0.936366  \n",
              "59  0.936130  "
            ],
            "text/html": [
              "\n",
              "  <div id=\"df-4e742056-5728-4cf8-bb71-e16233db06bd\">\n",
              "    <div class=\"colab-df-container\">\n",
              "      <div>\n",
              "<style scoped>\n",
              "    .dataframe tbody tr th:only-of-type {\n",
              "        vertical-align: middle;\n",
              "    }\n",
              "\n",
              "    .dataframe tbody tr th {\n",
              "        vertical-align: top;\n",
              "    }\n",
              "\n",
              "    .dataframe thead th {\n",
              "        text-align: right;\n",
              "    }\n",
              "</style>\n",
              "<table border=\"1\" class=\"dataframe\">\n",
              "  <thead>\n",
              "    <tr style=\"text-align: right;\">\n",
              "      <th></th>\n",
              "      <th>var_name</th>\n",
              "      <th>model_name</th>\n",
              "      <th>run_id</th>\n",
              "      <th>auroc</th>\n",
              "      <th>auprc</th>\n",
              "      <th>f1</th>\n",
              "      <th>acc</th>\n",
              "    </tr>\n",
              "  </thead>\n",
              "  <tbody>\n",
              "    <tr>\n",
              "      <th>0</th>\n",
              "      <td>los_3</td>\n",
              "      <td>base_model</td>\n",
              "      <td>1</td>\n",
              "      <td>0.686103</td>\n",
              "      <td>0.630927</td>\n",
              "      <td>0.526484</td>\n",
              "      <td>0.650247</td>\n",
              "    </tr>\n",
              "    <tr>\n",
              "      <th>1</th>\n",
              "      <td>los_3</td>\n",
              "      <td>multi_model</td>\n",
              "      <td>1</td>\n",
              "      <td>0.689697</td>\n",
              "      <td>0.636548</td>\n",
              "      <td>0.541944</td>\n",
              "      <td>0.658968</td>\n",
              "    </tr>\n",
              "    <tr>\n",
              "      <th>2</th>\n",
              "      <td>los_3</td>\n",
              "      <td>transformer_model</td>\n",
              "      <td>1</td>\n",
              "      <td>0.694085</td>\n",
              "      <td>0.634910</td>\n",
              "      <td>0.519256</td>\n",
              "      <td>0.658732</td>\n",
              "    </tr>\n",
              "    <tr>\n",
              "      <th>3</th>\n",
              "      <td>los_7</td>\n",
              "      <td>base_model</td>\n",
              "      <td>1</td>\n",
              "      <td>0.700557</td>\n",
              "      <td>0.176523</td>\n",
              "      <td>0.000000</td>\n",
              "      <td>0.921753</td>\n",
              "    </tr>\n",
              "    <tr>\n",
              "      <th>4</th>\n",
              "      <td>los_7</td>\n",
              "      <td>multi_model</td>\n",
              "      <td>1</td>\n",
              "      <td>0.690962</td>\n",
              "      <td>0.173636</td>\n",
              "      <td>0.017751</td>\n",
              "      <td>0.921753</td>\n",
              "    </tr>\n",
              "    <tr>\n",
              "      <th>5</th>\n",
              "      <td>los_7</td>\n",
              "      <td>transformer_model</td>\n",
              "      <td>1</td>\n",
              "      <td>0.716034</td>\n",
              "      <td>0.189339</td>\n",
              "      <td>0.000000</td>\n",
              "      <td>0.921753</td>\n",
              "    </tr>\n",
              "    <tr>\n",
              "      <th>6</th>\n",
              "      <td>mort_hosp</td>\n",
              "      <td>base_model</td>\n",
              "      <td>1</td>\n",
              "      <td>0.854717</td>\n",
              "      <td>0.511226</td>\n",
              "      <td>0.385294</td>\n",
              "      <td>0.901485</td>\n",
              "    </tr>\n",
              "    <tr>\n",
              "      <th>7</th>\n",
              "      <td>mort_hosp</td>\n",
              "      <td>multi_model</td>\n",
              "      <td>1</td>\n",
              "      <td>0.856073</td>\n",
              "      <td>0.498737</td>\n",
              "      <td>0.375963</td>\n",
              "      <td>0.904549</td>\n",
              "    </tr>\n",
              "    <tr>\n",
              "      <th>8</th>\n",
              "      <td>mort_hosp</td>\n",
              "      <td>transformer_model</td>\n",
              "      <td>1</td>\n",
              "      <td>0.861665</td>\n",
              "      <td>0.530665</td>\n",
              "      <td>0.336026</td>\n",
              "      <td>0.903135</td>\n",
              "    </tr>\n",
              "    <tr>\n",
              "      <th>9</th>\n",
              "      <td>mort_icu</td>\n",
              "      <td>base_model</td>\n",
              "      <td>1</td>\n",
              "      <td>0.883021</td>\n",
              "      <td>0.466147</td>\n",
              "      <td>0.361174</td>\n",
              "      <td>0.933302</td>\n",
              "    </tr>\n",
              "    <tr>\n",
              "      <th>10</th>\n",
              "      <td>mort_icu</td>\n",
              "      <td>multi_model</td>\n",
              "      <td>1</td>\n",
              "      <td>0.876503</td>\n",
              "      <td>0.451819</td>\n",
              "      <td>0.340633</td>\n",
              "      <td>0.936130</td>\n",
              "    </tr>\n",
              "    <tr>\n",
              "      <th>11</th>\n",
              "      <td>mort_icu</td>\n",
              "      <td>transformer_model</td>\n",
              "      <td>1</td>\n",
              "      <td>0.891155</td>\n",
              "      <td>0.480673</td>\n",
              "      <td>0.304124</td>\n",
              "      <td>0.936366</td>\n",
              "    </tr>\n",
              "    <tr>\n",
              "      <th>12</th>\n",
              "      <td>los_3</td>\n",
              "      <td>base_model</td>\n",
              "      <td>2</td>\n",
              "      <td>0.686255</td>\n",
              "      <td>0.630890</td>\n",
              "      <td>0.524442</td>\n",
              "      <td>0.653783</td>\n",
              "    </tr>\n",
              "    <tr>\n",
              "      <th>13</th>\n",
              "      <td>los_3</td>\n",
              "      <td>multi_model</td>\n",
              "      <td>2</td>\n",
              "      <td>0.687452</td>\n",
              "      <td>0.632938</td>\n",
              "      <td>0.548765</td>\n",
              "      <td>0.655432</td>\n",
              "    </tr>\n",
              "    <tr>\n",
              "      <th>14</th>\n",
              "      <td>los_3</td>\n",
              "      <td>transformer_model</td>\n",
              "      <td>2</td>\n",
              "      <td>0.694167</td>\n",
              "      <td>0.636329</td>\n",
              "      <td>0.537697</td>\n",
              "      <td>0.660382</td>\n",
              "    </tr>\n",
              "    <tr>\n",
              "      <th>15</th>\n",
              "      <td>los_7</td>\n",
              "      <td>base_model</td>\n",
              "      <td>2</td>\n",
              "      <td>0.674165</td>\n",
              "      <td>0.162122</td>\n",
              "      <td>0.000000</td>\n",
              "      <td>0.921753</td>\n",
              "    </tr>\n",
              "    <tr>\n",
              "      <th>16</th>\n",
              "      <td>los_7</td>\n",
              "      <td>multi_model</td>\n",
              "      <td>2</td>\n",
              "      <td>0.703190</td>\n",
              "      <td>0.179511</td>\n",
              "      <td>0.000000</td>\n",
              "      <td>0.921753</td>\n",
              "    </tr>\n",
              "    <tr>\n",
              "      <th>17</th>\n",
              "      <td>los_7</td>\n",
              "      <td>transformer_model</td>\n",
              "      <td>2</td>\n",
              "      <td>0.716295</td>\n",
              "      <td>0.185141</td>\n",
              "      <td>0.000000</td>\n",
              "      <td>0.921753</td>\n",
              "    </tr>\n",
              "    <tr>\n",
              "      <th>18</th>\n",
              "      <td>mort_hosp</td>\n",
              "      <td>base_model</td>\n",
              "      <td>2</td>\n",
              "      <td>0.854976</td>\n",
              "      <td>0.512397</td>\n",
              "      <td>0.382916</td>\n",
              "      <td>0.901249</td>\n",
              "    </tr>\n",
              "    <tr>\n",
              "      <th>19</th>\n",
              "      <td>mort_hosp</td>\n",
              "      <td>multi_model</td>\n",
              "      <td>2</td>\n",
              "      <td>0.855935</td>\n",
              "      <td>0.500775</td>\n",
              "      <td>0.372372</td>\n",
              "      <td>0.901485</td>\n",
              "    </tr>\n",
              "    <tr>\n",
              "      <th>20</th>\n",
              "      <td>mort_hosp</td>\n",
              "      <td>transformer_model</td>\n",
              "      <td>2</td>\n",
              "      <td>0.858588</td>\n",
              "      <td>0.525307</td>\n",
              "      <td>0.343949</td>\n",
              "      <td>0.902899</td>\n",
              "    </tr>\n",
              "    <tr>\n",
              "      <th>21</th>\n",
              "      <td>mort_icu</td>\n",
              "      <td>base_model</td>\n",
              "      <td>2</td>\n",
              "      <td>0.876047</td>\n",
              "      <td>0.457389</td>\n",
              "      <td>0.345455</td>\n",
              "      <td>0.932123</td>\n",
              "    </tr>\n",
              "    <tr>\n",
              "      <th>22</th>\n",
              "      <td>mort_icu</td>\n",
              "      <td>multi_model</td>\n",
              "      <td>2</td>\n",
              "      <td>0.876416</td>\n",
              "      <td>0.451152</td>\n",
              "      <td>0.341463</td>\n",
              "      <td>0.936366</td>\n",
              "    </tr>\n",
              "    <tr>\n",
              "      <th>23</th>\n",
              "      <td>mort_icu</td>\n",
              "      <td>transformer_model</td>\n",
              "      <td>2</td>\n",
              "      <td>0.887489</td>\n",
              "      <td>0.487318</td>\n",
              "      <td>0.275676</td>\n",
              "      <td>0.936837</td>\n",
              "    </tr>\n",
              "    <tr>\n",
              "      <th>24</th>\n",
              "      <td>los_3</td>\n",
              "      <td>base_model</td>\n",
              "      <td>3</td>\n",
              "      <td>0.686562</td>\n",
              "      <td>0.631110</td>\n",
              "      <td>0.530090</td>\n",
              "      <td>0.654018</td>\n",
              "    </tr>\n",
              "    <tr>\n",
              "      <th>25</th>\n",
              "      <td>los_3</td>\n",
              "      <td>multi_model</td>\n",
              "      <td>3</td>\n",
              "      <td>0.683619</td>\n",
              "      <td>0.630524</td>\n",
              "      <td>0.527706</td>\n",
              "      <td>0.654490</td>\n",
              "    </tr>\n",
              "    <tr>\n",
              "      <th>26</th>\n",
              "      <td>los_3</td>\n",
              "      <td>transformer_model</td>\n",
              "      <td>3</td>\n",
              "      <td>0.694042</td>\n",
              "      <td>0.635156</td>\n",
              "      <td>0.533505</td>\n",
              "      <td>0.658732</td>\n",
              "    </tr>\n",
              "    <tr>\n",
              "      <th>27</th>\n",
              "      <td>los_7</td>\n",
              "      <td>base_model</td>\n",
              "      <td>3</td>\n",
              "      <td>0.705099</td>\n",
              "      <td>0.189716</td>\n",
              "      <td>0.000000</td>\n",
              "      <td>0.921753</td>\n",
              "    </tr>\n",
              "    <tr>\n",
              "      <th>28</th>\n",
              "      <td>los_7</td>\n",
              "      <td>multi_model</td>\n",
              "      <td>3</td>\n",
              "      <td>0.703435</td>\n",
              "      <td>0.177077</td>\n",
              "      <td>0.011905</td>\n",
              "      <td>0.921753</td>\n",
              "    </tr>\n",
              "    <tr>\n",
              "      <th>29</th>\n",
              "      <td>los_7</td>\n",
              "      <td>transformer_model</td>\n",
              "      <td>3</td>\n",
              "      <td>0.716237</td>\n",
              "      <td>0.184432</td>\n",
              "      <td>0.000000</td>\n",
              "      <td>0.921753</td>\n",
              "    </tr>\n",
              "    <tr>\n",
              "      <th>30</th>\n",
              "      <td>mort_hosp</td>\n",
              "      <td>base_model</td>\n",
              "      <td>3</td>\n",
              "      <td>0.854371</td>\n",
              "      <td>0.512271</td>\n",
              "      <td>0.382353</td>\n",
              "      <td>0.901013</td>\n",
              "    </tr>\n",
              "    <tr>\n",
              "      <th>31</th>\n",
              "      <td>mort_hosp</td>\n",
              "      <td>multi_model</td>\n",
              "      <td>3</td>\n",
              "      <td>0.854901</td>\n",
              "      <td>0.500567</td>\n",
              "      <td>0.367284</td>\n",
              "      <td>0.903370</td>\n",
              "    </tr>\n",
              "    <tr>\n",
              "      <th>32</th>\n",
              "      <td>mort_hosp</td>\n",
              "      <td>transformer_model</td>\n",
              "      <td>3</td>\n",
              "      <td>0.862787</td>\n",
              "      <td>0.532398</td>\n",
              "      <td>0.315789</td>\n",
              "      <td>0.901956</td>\n",
              "    </tr>\n",
              "    <tr>\n",
              "      <th>33</th>\n",
              "      <td>mort_icu</td>\n",
              "      <td>base_model</td>\n",
              "      <td>3</td>\n",
              "      <td>0.882142</td>\n",
              "      <td>0.464903</td>\n",
              "      <td>0.355353</td>\n",
              "      <td>0.933302</td>\n",
              "    </tr>\n",
              "    <tr>\n",
              "      <th>34</th>\n",
              "      <td>mort_icu</td>\n",
              "      <td>multi_model</td>\n",
              "      <td>3</td>\n",
              "      <td>0.876854</td>\n",
              "      <td>0.455783</td>\n",
              "      <td>0.359712</td>\n",
              "      <td>0.937073</td>\n",
              "    </tr>\n",
              "    <tr>\n",
              "      <th>35</th>\n",
              "      <td>mort_icu</td>\n",
              "      <td>transformer_model</td>\n",
              "      <td>3</td>\n",
              "      <td>0.885266</td>\n",
              "      <td>0.474592</td>\n",
              "      <td>0.339152</td>\n",
              "      <td>0.937544</td>\n",
              "    </tr>\n",
              "    <tr>\n",
              "      <th>36</th>\n",
              "      <td>los_3</td>\n",
              "      <td>base_model</td>\n",
              "      <td>4</td>\n",
              "      <td>0.686304</td>\n",
              "      <td>0.630885</td>\n",
              "      <td>0.523346</td>\n",
              "      <td>0.653547</td>\n",
              "    </tr>\n",
              "    <tr>\n",
              "      <th>37</th>\n",
              "      <td>los_3</td>\n",
              "      <td>multi_model</td>\n",
              "      <td>4</td>\n",
              "      <td>0.684534</td>\n",
              "      <td>0.630817</td>\n",
              "      <td>0.532529</td>\n",
              "      <td>0.652840</td>\n",
              "    </tr>\n",
              "    <tr>\n",
              "      <th>38</th>\n",
              "      <td>los_3</td>\n",
              "      <td>transformer_model</td>\n",
              "      <td>4</td>\n",
              "      <td>0.692560</td>\n",
              "      <td>0.634379</td>\n",
              "      <td>0.534824</td>\n",
              "      <td>0.656847</td>\n",
              "    </tr>\n",
              "    <tr>\n",
              "      <th>39</th>\n",
              "      <td>los_7</td>\n",
              "      <td>base_model</td>\n",
              "      <td>4</td>\n",
              "      <td>0.693459</td>\n",
              "      <td>0.180919</td>\n",
              "      <td>0.000000</td>\n",
              "      <td>0.921753</td>\n",
              "    </tr>\n",
              "    <tr>\n",
              "      <th>40</th>\n",
              "      <td>los_7</td>\n",
              "      <td>multi_model</td>\n",
              "      <td>4</td>\n",
              "      <td>0.702152</td>\n",
              "      <td>0.178453</td>\n",
              "      <td>0.017699</td>\n",
              "      <td>0.921518</td>\n",
              "    </tr>\n",
              "    <tr>\n",
              "      <th>41</th>\n",
              "      <td>los_7</td>\n",
              "      <td>transformer_model</td>\n",
              "      <td>4</td>\n",
              "      <td>0.718624</td>\n",
              "      <td>0.190999</td>\n",
              "      <td>0.000000</td>\n",
              "      <td>0.921753</td>\n",
              "    </tr>\n",
              "    <tr>\n",
              "      <th>42</th>\n",
              "      <td>mort_hosp</td>\n",
              "      <td>base_model</td>\n",
              "      <td>4</td>\n",
              "      <td>0.856138</td>\n",
              "      <td>0.514840</td>\n",
              "      <td>0.384728</td>\n",
              "      <td>0.901249</td>\n",
              "    </tr>\n",
              "    <tr>\n",
              "      <th>43</th>\n",
              "      <td>mort_hosp</td>\n",
              "      <td>multi_model</td>\n",
              "      <td>4</td>\n",
              "      <td>0.850850</td>\n",
              "      <td>0.495548</td>\n",
              "      <td>0.360248</td>\n",
              "      <td>0.902899</td>\n",
              "    </tr>\n",
              "    <tr>\n",
              "      <th>44</th>\n",
              "      <td>mort_hosp</td>\n",
              "      <td>transformer_model</td>\n",
              "      <td>4</td>\n",
              "      <td>0.862635</td>\n",
              "      <td>0.534762</td>\n",
              "      <td>0.344156</td>\n",
              "      <td>0.904784</td>\n",
              "    </tr>\n",
              "    <tr>\n",
              "      <th>45</th>\n",
              "      <td>mort_icu</td>\n",
              "      <td>base_model</td>\n",
              "      <td>4</td>\n",
              "      <td>0.882293</td>\n",
              "      <td>0.450232</td>\n",
              "      <td>0.338747</td>\n",
              "      <td>0.932831</td>\n",
              "    </tr>\n",
              "    <tr>\n",
              "      <th>46</th>\n",
              "      <td>mort_icu</td>\n",
              "      <td>multi_model</td>\n",
              "      <td>4</td>\n",
              "      <td>0.875580</td>\n",
              "      <td>0.451310</td>\n",
              "      <td>0.338235</td>\n",
              "      <td>0.936366</td>\n",
              "    </tr>\n",
              "    <tr>\n",
              "      <th>47</th>\n",
              "      <td>mort_icu</td>\n",
              "      <td>transformer_model</td>\n",
              "      <td>4</td>\n",
              "      <td>0.889016</td>\n",
              "      <td>0.472739</td>\n",
              "      <td>0.279683</td>\n",
              "      <td>0.935659</td>\n",
              "    </tr>\n",
              "    <tr>\n",
              "      <th>48</th>\n",
              "      <td>los_3</td>\n",
              "      <td>base_model</td>\n",
              "      <td>5</td>\n",
              "      <td>0.683128</td>\n",
              "      <td>0.628154</td>\n",
              "      <td>0.544718</td>\n",
              "      <td>0.655668</td>\n",
              "    </tr>\n",
              "    <tr>\n",
              "      <th>49</th>\n",
              "      <td>los_3</td>\n",
              "      <td>multi_model</td>\n",
              "      <td>5</td>\n",
              "      <td>0.684394</td>\n",
              "      <td>0.631303</td>\n",
              "      <td>0.538074</td>\n",
              "      <td>0.654018</td>\n",
              "    </tr>\n",
              "    <tr>\n",
              "      <th>50</th>\n",
              "      <td>los_3</td>\n",
              "      <td>transformer_model</td>\n",
              "      <td>5</td>\n",
              "      <td>0.694570</td>\n",
              "      <td>0.635733</td>\n",
              "      <td>0.539601</td>\n",
              "      <td>0.662974</td>\n",
              "    </tr>\n",
              "    <tr>\n",
              "      <th>51</th>\n",
              "      <td>los_7</td>\n",
              "      <td>base_model</td>\n",
              "      <td>5</td>\n",
              "      <td>0.705207</td>\n",
              "      <td>0.184992</td>\n",
              "      <td>0.000000</td>\n",
              "      <td>0.921753</td>\n",
              "    </tr>\n",
              "    <tr>\n",
              "      <th>52</th>\n",
              "      <td>los_7</td>\n",
              "      <td>multi_model</td>\n",
              "      <td>5</td>\n",
              "      <td>0.698483</td>\n",
              "      <td>0.174336</td>\n",
              "      <td>0.005988</td>\n",
              "      <td>0.921753</td>\n",
              "    </tr>\n",
              "    <tr>\n",
              "      <th>53</th>\n",
              "      <td>los_7</td>\n",
              "      <td>transformer_model</td>\n",
              "      <td>5</td>\n",
              "      <td>0.717209</td>\n",
              "      <td>0.192346</td>\n",
              "      <td>0.000000</td>\n",
              "      <td>0.921753</td>\n",
              "    </tr>\n",
              "    <tr>\n",
              "      <th>54</th>\n",
              "      <td>mort_hosp</td>\n",
              "      <td>base_model</td>\n",
              "      <td>5</td>\n",
              "      <td>0.853593</td>\n",
              "      <td>0.510508</td>\n",
              "      <td>0.359820</td>\n",
              "      <td>0.899364</td>\n",
              "    </tr>\n",
              "    <tr>\n",
              "      <th>55</th>\n",
              "      <td>mort_hosp</td>\n",
              "      <td>multi_model</td>\n",
              "      <td>5</td>\n",
              "      <td>0.851946</td>\n",
              "      <td>0.495705</td>\n",
              "      <td>0.353678</td>\n",
              "      <td>0.902663</td>\n",
              "    </tr>\n",
              "    <tr>\n",
              "      <th>56</th>\n",
              "      <td>mort_hosp</td>\n",
              "      <td>transformer_model</td>\n",
              "      <td>5</td>\n",
              "      <td>0.859112</td>\n",
              "      <td>0.524312</td>\n",
              "      <td>0.346709</td>\n",
              "      <td>0.904077</td>\n",
              "    </tr>\n",
              "    <tr>\n",
              "      <th>57</th>\n",
              "      <td>mort_icu</td>\n",
              "      <td>base_model</td>\n",
              "      <td>5</td>\n",
              "      <td>0.880128</td>\n",
              "      <td>0.443223</td>\n",
              "      <td>0.365688</td>\n",
              "      <td>0.933773</td>\n",
              "    </tr>\n",
              "    <tr>\n",
              "      <th>58</th>\n",
              "      <td>mort_icu</td>\n",
              "      <td>multi_model</td>\n",
              "      <td>5</td>\n",
              "      <td>0.875967</td>\n",
              "      <td>0.450642</td>\n",
              "      <td>0.334975</td>\n",
              "      <td>0.936366</td>\n",
              "    </tr>\n",
              "    <tr>\n",
              "      <th>59</th>\n",
              "      <td>mort_icu</td>\n",
              "      <td>transformer_model</td>\n",
              "      <td>5</td>\n",
              "      <td>0.883283</td>\n",
              "      <td>0.462499</td>\n",
              "      <td>0.281167</td>\n",
              "      <td>0.936130</td>\n",
              "    </tr>\n",
              "  </tbody>\n",
              "</table>\n",
              "</div>\n",
              "      <button class=\"colab-df-convert\" onclick=\"convertToInteractive('df-4e742056-5728-4cf8-bb71-e16233db06bd')\"\n",
              "              title=\"Convert this dataframe to an interactive table.\"\n",
              "              style=\"display:none;\">\n",
              "        \n",
              "  <svg xmlns=\"http://www.w3.org/2000/svg\" height=\"24px\"viewBox=\"0 0 24 24\"\n",
              "       width=\"24px\">\n",
              "    <path d=\"M0 0h24v24H0V0z\" fill=\"none\"/>\n",
              "    <path d=\"M18.56 5.44l.94 2.06.94-2.06 2.06-.94-2.06-.94-.94-2.06-.94 2.06-2.06.94zm-11 1L8.5 8.5l.94-2.06 2.06-.94-2.06-.94L8.5 2.5l-.94 2.06-2.06.94zm10 10l.94 2.06.94-2.06 2.06-.94-2.06-.94-.94-2.06-.94 2.06-2.06.94z\"/><path d=\"M17.41 7.96l-1.37-1.37c-.4-.4-.92-.59-1.43-.59-.52 0-1.04.2-1.43.59L10.3 9.45l-7.72 7.72c-.78.78-.78 2.05 0 2.83L4 21.41c.39.39.9.59 1.41.59.51 0 1.02-.2 1.41-.59l7.78-7.78 2.81-2.81c.8-.78.8-2.07 0-2.86zM5.41 20L4 18.59l7.72-7.72 1.47 1.35L5.41 20z\"/>\n",
              "  </svg>\n",
              "      </button>\n",
              "      \n",
              "  <style>\n",
              "    .colab-df-container {\n",
              "      display:flex;\n",
              "      flex-wrap:wrap;\n",
              "      gap: 12px;\n",
              "    }\n",
              "\n",
              "    .colab-df-convert {\n",
              "      background-color: #E8F0FE;\n",
              "      border: none;\n",
              "      border-radius: 50%;\n",
              "      cursor: pointer;\n",
              "      display: none;\n",
              "      fill: #1967D2;\n",
              "      height: 32px;\n",
              "      padding: 0 0 0 0;\n",
              "      width: 32px;\n",
              "    }\n",
              "\n",
              "    .colab-df-convert:hover {\n",
              "      background-color: #E2EBFA;\n",
              "      box-shadow: 0px 1px 2px rgba(60, 64, 67, 0.3), 0px 1px 3px 1px rgba(60, 64, 67, 0.15);\n",
              "      fill: #174EA6;\n",
              "    }\n",
              "\n",
              "    [theme=dark] .colab-df-convert {\n",
              "      background-color: #3B4455;\n",
              "      fill: #D2E3FC;\n",
              "    }\n",
              "\n",
              "    [theme=dark] .colab-df-convert:hover {\n",
              "      background-color: #434B5C;\n",
              "      box-shadow: 0px 1px 3px 1px rgba(0, 0, 0, 0.15);\n",
              "      filter: drop-shadow(0px 1px 2px rgba(0, 0, 0, 0.3));\n",
              "      fill: #FFFFFF;\n",
              "    }\n",
              "  </style>\n",
              "\n",
              "      <script>\n",
              "        const buttonEl =\n",
              "          document.querySelector('#df-4e742056-5728-4cf8-bb71-e16233db06bd button.colab-df-convert');\n",
              "        buttonEl.style.display =\n",
              "          google.colab.kernel.accessAllowed ? 'block' : 'none';\n",
              "\n",
              "        async function convertToInteractive(key) {\n",
              "          const element = document.querySelector('#df-4e742056-5728-4cf8-bb71-e16233db06bd');\n",
              "          const dataTable =\n",
              "            await google.colab.kernel.invokeFunction('convertToInteractive',\n",
              "                                                     [key], {});\n",
              "          if (!dataTable) return;\n",
              "\n",
              "          const docLinkHtml = 'Like what you see? Visit the ' +\n",
              "            '<a target=\"_blank\" href=https://colab.research.google.com/notebooks/data_table.ipynb>data table notebook</a>'\n",
              "            + ' to learn more about interactive tables.';\n",
              "          element.innerHTML = '';\n",
              "          dataTable['output_type'] = 'display_data';\n",
              "          await google.colab.output.renderOutput(dataTable, element);\n",
              "          const docLink = document.createElement('div');\n",
              "          docLink.innerHTML = docLinkHtml;\n",
              "          element.appendChild(docLink);\n",
              "        }\n",
              "      </script>\n",
              "    </div>\n",
              "  </div>\n",
              "  "
            ]
          },
          "metadata": {},
          "execution_count": 13
        }
      ]
    },
    {
      "cell_type": "code",
      "source": [
        "rslt_agg = all_run.groupby([\"var_name\", \"model_name\"]).aggregate({'auroc':'mean', 'auprc':'mean', 'f1':'mean', 'acc':'mean'})\n",
        "rslt_agg.head(12)"
      ],
      "metadata": {
        "colab": {
          "base_uri": "https://localhost:8080/",
          "height": 457
        },
        "id": "aQr30W0FZC4b",
        "outputId": "924390ef-ad18-4885-d941-12136ea7cc2a"
      },
      "execution_count": null,
      "outputs": [
        {
          "output_type": "execute_result",
          "data": {
            "text/plain": [
              "                                auroc     auprc        f1       acc\n",
              "var_name  model_name                                               \n",
              "los_3     base_model         0.685670  0.630393  0.529816  0.653453\n",
              "          multi_model        0.685939  0.632426  0.537804  0.655150\n",
              "          transformer_model  0.693885  0.635302  0.532977  0.659533\n",
              "los_7     base_model         0.695697  0.178854  0.000000  0.921753\n",
              "          multi_model        0.699644  0.176603  0.010669  0.921706\n",
              "          transformer_model  0.716880  0.188451  0.000000  0.921753\n",
              "mort_hosp base_model         0.854759  0.512248  0.379022  0.900872\n",
              "          multi_model        0.853941  0.498266  0.365909  0.902993\n",
              "          transformer_model  0.860957  0.529489  0.337326  0.903370\n",
              "mort_icu  base_model         0.880726  0.456379  0.353283  0.933066\n",
              "          multi_model        0.876264  0.452141  0.343004  0.936460\n",
              "          transformer_model  0.887242  0.475564  0.295960  0.936507"
            ],
            "text/html": [
              "\n",
              "  <div id=\"df-bfa571e2-6f6b-4aae-87ae-94ca300d25d7\">\n",
              "    <div class=\"colab-df-container\">\n",
              "      <div>\n",
              "<style scoped>\n",
              "    .dataframe tbody tr th:only-of-type {\n",
              "        vertical-align: middle;\n",
              "    }\n",
              "\n",
              "    .dataframe tbody tr th {\n",
              "        vertical-align: top;\n",
              "    }\n",
              "\n",
              "    .dataframe thead th {\n",
              "        text-align: right;\n",
              "    }\n",
              "</style>\n",
              "<table border=\"1\" class=\"dataframe\">\n",
              "  <thead>\n",
              "    <tr style=\"text-align: right;\">\n",
              "      <th></th>\n",
              "      <th></th>\n",
              "      <th>auroc</th>\n",
              "      <th>auprc</th>\n",
              "      <th>f1</th>\n",
              "      <th>acc</th>\n",
              "    </tr>\n",
              "    <tr>\n",
              "      <th>var_name</th>\n",
              "      <th>model_name</th>\n",
              "      <th></th>\n",
              "      <th></th>\n",
              "      <th></th>\n",
              "      <th></th>\n",
              "    </tr>\n",
              "  </thead>\n",
              "  <tbody>\n",
              "    <tr>\n",
              "      <th rowspan=\"3\" valign=\"top\">los_3</th>\n",
              "      <th>base_model</th>\n",
              "      <td>0.685670</td>\n",
              "      <td>0.630393</td>\n",
              "      <td>0.529816</td>\n",
              "      <td>0.653453</td>\n",
              "    </tr>\n",
              "    <tr>\n",
              "      <th>multi_model</th>\n",
              "      <td>0.685939</td>\n",
              "      <td>0.632426</td>\n",
              "      <td>0.537804</td>\n",
              "      <td>0.655150</td>\n",
              "    </tr>\n",
              "    <tr>\n",
              "      <th>transformer_model</th>\n",
              "      <td>0.693885</td>\n",
              "      <td>0.635302</td>\n",
              "      <td>0.532977</td>\n",
              "      <td>0.659533</td>\n",
              "    </tr>\n",
              "    <tr>\n",
              "      <th rowspan=\"3\" valign=\"top\">los_7</th>\n",
              "      <th>base_model</th>\n",
              "      <td>0.695697</td>\n",
              "      <td>0.178854</td>\n",
              "      <td>0.000000</td>\n",
              "      <td>0.921753</td>\n",
              "    </tr>\n",
              "    <tr>\n",
              "      <th>multi_model</th>\n",
              "      <td>0.699644</td>\n",
              "      <td>0.176603</td>\n",
              "      <td>0.010669</td>\n",
              "      <td>0.921706</td>\n",
              "    </tr>\n",
              "    <tr>\n",
              "      <th>transformer_model</th>\n",
              "      <td>0.716880</td>\n",
              "      <td>0.188451</td>\n",
              "      <td>0.000000</td>\n",
              "      <td>0.921753</td>\n",
              "    </tr>\n",
              "    <tr>\n",
              "      <th rowspan=\"3\" valign=\"top\">mort_hosp</th>\n",
              "      <th>base_model</th>\n",
              "      <td>0.854759</td>\n",
              "      <td>0.512248</td>\n",
              "      <td>0.379022</td>\n",
              "      <td>0.900872</td>\n",
              "    </tr>\n",
              "    <tr>\n",
              "      <th>multi_model</th>\n",
              "      <td>0.853941</td>\n",
              "      <td>0.498266</td>\n",
              "      <td>0.365909</td>\n",
              "      <td>0.902993</td>\n",
              "    </tr>\n",
              "    <tr>\n",
              "      <th>transformer_model</th>\n",
              "      <td>0.860957</td>\n",
              "      <td>0.529489</td>\n",
              "      <td>0.337326</td>\n",
              "      <td>0.903370</td>\n",
              "    </tr>\n",
              "    <tr>\n",
              "      <th rowspan=\"3\" valign=\"top\">mort_icu</th>\n",
              "      <th>base_model</th>\n",
              "      <td>0.880726</td>\n",
              "      <td>0.456379</td>\n",
              "      <td>0.353283</td>\n",
              "      <td>0.933066</td>\n",
              "    </tr>\n",
              "    <tr>\n",
              "      <th>multi_model</th>\n",
              "      <td>0.876264</td>\n",
              "      <td>0.452141</td>\n",
              "      <td>0.343004</td>\n",
              "      <td>0.936460</td>\n",
              "    </tr>\n",
              "    <tr>\n",
              "      <th>transformer_model</th>\n",
              "      <td>0.887242</td>\n",
              "      <td>0.475564</td>\n",
              "      <td>0.295960</td>\n",
              "      <td>0.936507</td>\n",
              "    </tr>\n",
              "  </tbody>\n",
              "</table>\n",
              "</div>\n",
              "      <button class=\"colab-df-convert\" onclick=\"convertToInteractive('df-bfa571e2-6f6b-4aae-87ae-94ca300d25d7')\"\n",
              "              title=\"Convert this dataframe to an interactive table.\"\n",
              "              style=\"display:none;\">\n",
              "        \n",
              "  <svg xmlns=\"http://www.w3.org/2000/svg\" height=\"24px\"viewBox=\"0 0 24 24\"\n",
              "       width=\"24px\">\n",
              "    <path d=\"M0 0h24v24H0V0z\" fill=\"none\"/>\n",
              "    <path d=\"M18.56 5.44l.94 2.06.94-2.06 2.06-.94-2.06-.94-.94-2.06-.94 2.06-2.06.94zm-11 1L8.5 8.5l.94-2.06 2.06-.94-2.06-.94L8.5 2.5l-.94 2.06-2.06.94zm10 10l.94 2.06.94-2.06 2.06-.94-2.06-.94-.94-2.06-.94 2.06-2.06.94z\"/><path d=\"M17.41 7.96l-1.37-1.37c-.4-.4-.92-.59-1.43-.59-.52 0-1.04.2-1.43.59L10.3 9.45l-7.72 7.72c-.78.78-.78 2.05 0 2.83L4 21.41c.39.39.9.59 1.41.59.51 0 1.02-.2 1.41-.59l7.78-7.78 2.81-2.81c.8-.78.8-2.07 0-2.86zM5.41 20L4 18.59l7.72-7.72 1.47 1.35L5.41 20z\"/>\n",
              "  </svg>\n",
              "      </button>\n",
              "      \n",
              "  <style>\n",
              "    .colab-df-container {\n",
              "      display:flex;\n",
              "      flex-wrap:wrap;\n",
              "      gap: 12px;\n",
              "    }\n",
              "\n",
              "    .colab-df-convert {\n",
              "      background-color: #E8F0FE;\n",
              "      border: none;\n",
              "      border-radius: 50%;\n",
              "      cursor: pointer;\n",
              "      display: none;\n",
              "      fill: #1967D2;\n",
              "      height: 32px;\n",
              "      padding: 0 0 0 0;\n",
              "      width: 32px;\n",
              "    }\n",
              "\n",
              "    .colab-df-convert:hover {\n",
              "      background-color: #E2EBFA;\n",
              "      box-shadow: 0px 1px 2px rgba(60, 64, 67, 0.3), 0px 1px 3px 1px rgba(60, 64, 67, 0.15);\n",
              "      fill: #174EA6;\n",
              "    }\n",
              "\n",
              "    [theme=dark] .colab-df-convert {\n",
              "      background-color: #3B4455;\n",
              "      fill: #D2E3FC;\n",
              "    }\n",
              "\n",
              "    [theme=dark] .colab-df-convert:hover {\n",
              "      background-color: #434B5C;\n",
              "      box-shadow: 0px 1px 3px 1px rgba(0, 0, 0, 0.15);\n",
              "      filter: drop-shadow(0px 1px 2px rgba(0, 0, 0, 0.3));\n",
              "      fill: #FFFFFF;\n",
              "    }\n",
              "  </style>\n",
              "\n",
              "      <script>\n",
              "        const buttonEl =\n",
              "          document.querySelector('#df-bfa571e2-6f6b-4aae-87ae-94ca300d25d7 button.colab-df-convert');\n",
              "        buttonEl.style.display =\n",
              "          google.colab.kernel.accessAllowed ? 'block' : 'none';\n",
              "\n",
              "        async function convertToInteractive(key) {\n",
              "          const element = document.querySelector('#df-bfa571e2-6f6b-4aae-87ae-94ca300d25d7');\n",
              "          const dataTable =\n",
              "            await google.colab.kernel.invokeFunction('convertToInteractive',\n",
              "                                                     [key], {});\n",
              "          if (!dataTable) return;\n",
              "\n",
              "          const docLinkHtml = 'Like what you see? Visit the ' +\n",
              "            '<a target=\"_blank\" href=https://colab.research.google.com/notebooks/data_table.ipynb>data table notebook</a>'\n",
              "            + ' to learn more about interactive tables.';\n",
              "          element.innerHTML = '';\n",
              "          dataTable['output_type'] = 'display_data';\n",
              "          await google.colab.output.renderOutput(dataTable, element);\n",
              "          const docLink = document.createElement('div');\n",
              "          docLink.innerHTML = docLinkHtml;\n",
              "          element.appendChild(docLink);\n",
              "        }\n",
              "      </script>\n",
              "    </div>\n",
              "  </div>\n",
              "  "
            ]
          },
          "metadata": {},
          "execution_count": 12
        }
      ]
    },
    {
      "cell_type": "markdown",
      "source": [
        "# Reproducibility Summary and Discusssion\n",
        "As shown above by the result multi-model was not able to beat the performance of the base-model for most of the cases. The results observed are very close within 1-3% ponts difference between one another (mostly just a %point). \n",
        "\n",
        "There might be multipe reason why this project was not able to replicate the same result of the original paper, some of them being:\n",
        "\n",
        "- Use of different deep learning framework : The original project uses keras and this project uses pytorch. Although same model architecture is used, different framework might have different way of calcuating things causing the results to vary. \n",
        "\n",
        "- Data imbalance and it's sensativity to reported result - Below it show's how sensative is the changes in positive classes for the imbalanced datasets. For example our in-hospatility mortality has 10% of positive class. So, we will take that as example and do follwoing things:\n",
        "  - Change the predicted values for postive class (which were predicted as -ve previously to be positive and change the score from below 0.5 to above 0.5 for the same). \n",
        "  - See the new result on the metrics that were reported. "
      ],
      "metadata": {
        "id": "Lp8OuwjIgpnn"
      }
    },
    {
      "cell_type": "code",
      "source": [
        "# Frist let's import the model that was the best-model for multi-model and use that for predicting the outcome.\n",
        "from torch.utils.data import DataLoader\n",
        "import torch.nn as nn\n",
        "import torch\n",
        "\n",
        "tst_dataset = CustomDataset(time_series_tst_py_torch, notes_tst_py_torch, y_tst_mort_hosp)\n",
        "tst_loader = DataLoader(tst_dataset, batch_size=128, shuffle=False)\n",
        "criterion = nn.BCELoss()\n",
        "\n",
        "model = MultiModel(input_size=104, hidden_size=256, filter_size=32)\n",
        "ckpoint = BestModelCheckPoint(\"./drive/MyDrive/DLHC-Data/pre_processed_data/models/multi_model_mort_hosp\")\n",
        "model = ckpoint.get_best_model(model)\n",
        "auroc_bc, auprc_bc, f1_bc, acc_bc, tst_loss = eval_model(model, tst_loader, criterion)\n",
        "print(\"Prediction for the Model before change.\")\n",
        "print('Test auroc: {:.4f}, auprc:{:.4f}, f1: {:.4f}, acc: {:.4f}'.format(auroc_bc, auprc_bc, f1_bc, acc_bc))"
      ],
      "metadata": {
        "colab": {
          "base_uri": "https://localhost:8080/"
        },
        "id": "I7Dejfoigou6",
        "outputId": "af295d42-ed9c-4875-894e-7c00452687c0"
      },
      "execution_count": null,
      "outputs": [
        {
          "output_type": "stream",
          "name": "stdout",
          "text": [
            "Prediction for the Model before change.\n",
            "Test auroc: 0.8519, auprc:0.4957, f1: 0.3537, acc: 0.9027\n"
          ]
        }
      ]
    },
    {
      "cell_type": "code",
      "source": [
        "y_pred = torch.LongTensor()\n",
        "y_true = torch.LongTensor()\n",
        "y_score = torch.Tensor()\n",
        "\n",
        "for x, x_embd, y in tst_loader:\n",
        "    y_hat = model(x,x_embd)\n",
        "    all_y_true = y.reshape(y_hat.shape)\n",
        "\n",
        "    y_score = torch.cat((y_score,  y_hat.detach().to('cpu')), dim=0)\n",
        "    y_hat = torch.Tensor([1 if i>=0.5 else 0 for i in y_hat])\n",
        "    y_pred = torch.cat((y_pred,  y_hat.detach().to('cpu')), dim=0)\n",
        "    y_true = torch.cat((y_true, all_y_true.detach().to('cpu')), dim=0)\n",
        "    \n",
        "y_score = torch.squeeze(y_score).tolist()\n",
        "y_pred = torch.squeeze(y_pred).tolist()\n",
        "y_true = torch.squeeze(y_true).tolist()"
      ],
      "metadata": {
        "id": "mXY-u5QognvL"
      },
      "execution_count": null,
      "outputs": []
    },
    {
      "cell_type": "code",
      "source": [
        "change_data_len = 0\n",
        "for i in range(len(y_pred)):\n",
        "  if ((y_pred[i] < y_true[i])):\n",
        "    print(\"Originaal :: y_pred:{}, y_true:{}, y_score_model:{}\".format(y_pred[i], y_true[i], y_score[i]))\n",
        "    y_pred[i] = 1.0\n",
        "    y_score[i] = 0.601\n",
        "    print(\"Changed to :: y_pred:{}, y_true:{}, y_score_model:{}\".format(y_pred[i], y_true[i], y_score[i]))\n",
        "    change_data_len = change_data_len + 1\n",
        "    if (change_data_len > 20):\n",
        "      break"
      ],
      "metadata": {
        "colab": {
          "base_uri": "https://localhost:8080/"
        },
        "id": "zEJU7Px2lTTu",
        "outputId": "b773a916-a5c4-4cf2-d812-fe117b4221bc"
      },
      "execution_count": null,
      "outputs": [
        {
          "output_type": "stream",
          "name": "stdout",
          "text": [
            "Originaal :: y_pred:0.0, y_true:1.0, y_score_model:0.09404982626438141\n",
            "Changed to :: y_pred:1.0, y_true:1.0, y_score_model:0.601\n",
            "Originaal :: y_pred:0.0, y_true:1.0, y_score_model:0.059709303081035614\n",
            "Changed to :: y_pred:1.0, y_true:1.0, y_score_model:0.601\n",
            "Originaal :: y_pred:0.0, y_true:1.0, y_score_model:0.0958065614104271\n",
            "Changed to :: y_pred:1.0, y_true:1.0, y_score_model:0.601\n",
            "Originaal :: y_pred:0.0, y_true:1.0, y_score_model:0.04858127981424332\n",
            "Changed to :: y_pred:1.0, y_true:1.0, y_score_model:0.601\n",
            "Originaal :: y_pred:0.0, y_true:1.0, y_score_model:0.0615299753844738\n",
            "Changed to :: y_pred:1.0, y_true:1.0, y_score_model:0.601\n",
            "Originaal :: y_pred:0.0, y_true:1.0, y_score_model:0.0829412117600441\n",
            "Changed to :: y_pred:1.0, y_true:1.0, y_score_model:0.601\n",
            "Originaal :: y_pred:0.0, y_true:1.0, y_score_model:0.1002126932144165\n",
            "Changed to :: y_pred:1.0, y_true:1.0, y_score_model:0.601\n",
            "Originaal :: y_pred:0.0, y_true:1.0, y_score_model:0.42307305335998535\n",
            "Changed to :: y_pred:1.0, y_true:1.0, y_score_model:0.601\n",
            "Originaal :: y_pred:0.0, y_true:1.0, y_score_model:0.04176050424575806\n",
            "Changed to :: y_pred:1.0, y_true:1.0, y_score_model:0.601\n",
            "Originaal :: y_pred:0.0, y_true:1.0, y_score_model:0.39899662137031555\n",
            "Changed to :: y_pred:1.0, y_true:1.0, y_score_model:0.601\n",
            "Originaal :: y_pred:0.0, y_true:1.0, y_score_model:0.08150501549243927\n",
            "Changed to :: y_pred:1.0, y_true:1.0, y_score_model:0.601\n",
            "Originaal :: y_pred:0.0, y_true:1.0, y_score_model:0.057173121720552444\n",
            "Changed to :: y_pred:1.0, y_true:1.0, y_score_model:0.601\n",
            "Originaal :: y_pred:0.0, y_true:1.0, y_score_model:0.1570894420146942\n",
            "Changed to :: y_pred:1.0, y_true:1.0, y_score_model:0.601\n",
            "Originaal :: y_pred:0.0, y_true:1.0, y_score_model:0.024697162210941315\n",
            "Changed to :: y_pred:1.0, y_true:1.0, y_score_model:0.601\n",
            "Originaal :: y_pred:0.0, y_true:1.0, y_score_model:0.2810346484184265\n",
            "Changed to :: y_pred:1.0, y_true:1.0, y_score_model:0.601\n",
            "Originaal :: y_pred:0.0, y_true:1.0, y_score_model:0.07032457739114761\n",
            "Changed to :: y_pred:1.0, y_true:1.0, y_score_model:0.601\n",
            "Originaal :: y_pred:0.0, y_true:1.0, y_score_model:0.04924193024635315\n",
            "Changed to :: y_pred:1.0, y_true:1.0, y_score_model:0.601\n",
            "Originaal :: y_pred:0.0, y_true:1.0, y_score_model:0.2599588930606842\n",
            "Changed to :: y_pred:1.0, y_true:1.0, y_score_model:0.601\n",
            "Originaal :: y_pred:0.0, y_true:1.0, y_score_model:0.060164306312799454\n",
            "Changed to :: y_pred:1.0, y_true:1.0, y_score_model:0.601\n",
            "Originaal :: y_pred:0.0, y_true:1.0, y_score_model:0.30214405059814453\n",
            "Changed to :: y_pred:1.0, y_true:1.0, y_score_model:0.601\n",
            "Originaal :: y_pred:0.0, y_true:1.0, y_score_model:0.10277480632066727\n",
            "Changed to :: y_pred:1.0, y_true:1.0, y_score_model:0.601\n"
          ]
        }
      ]
    },
    {
      "cell_type": "code",
      "source": [
        "from sklearn.metrics import average_precision_score, roc_auc_score, accuracy_score, f1_score\n",
        "print('Prediction for the Model before change: Test auroc: {:.4f}, auprc:{:.4f}, f1: {:.4f}, acc: {:.4f}'.format(auroc_bc, auprc_bc, f1_bc, acc_bc))\n",
        "\n",
        "auroc = roc_auc_score(y_true, y_score)\n",
        "auprc = average_precision_score(y_true, y_score)\n",
        "f1 = f1_score(y_true, y_pred)\n",
        "acc = accuracy_score(y_true, y_pred)\n",
        "print('Prediction for the Model after change : Test auroc: {:.4f}, auprc:{:.4f}, f1: {:.4f}, acc: {:.4f}'.format(auroc, auprc, f1, acc))\n",
        "print('Prediction for the Model changes      : Test auroc: {:.4f}, auprc:{:.4f}, f1: {:.4f}, acc: {:.4f}'.format(auroc-auroc_bc, auprc-auprc_bc, f1-f1_bc, acc-acc_bc))"
      ],
      "metadata": {
        "colab": {
          "base_uri": "https://localhost:8080/"
        },
        "id": "NvFGMO58tJ6o",
        "outputId": "0b963637-c46d-4aaa-e1a6-7f858cf18d53"
      },
      "execution_count": null,
      "outputs": [
        {
          "output_type": "stream",
          "name": "stdout",
          "text": [
            "Prediction for the Model before change: Test auroc: 0.8519, auprc:0.4957, f1: 0.3537, acc: 0.9027\n",
            "Prediction for the Model after change : Test auroc: 0.8638, auprc:0.5294, f1: 0.4061, acc: 0.9076\n",
            "Prediction for the Model changes      : Test auroc: 0.0118, auprc:0.0337, f1: 0.0524, acc: 0.0049\n"
          ]
        }
      ]
    },
    {
      "cell_type": "markdown",
      "source": [
        "Above, as shown by the results the small changes in positive class (20-data points, which is about 5% of test dataset positive cases and 0.5% of test-data) does change 1-2% point for AUROC, 3-4% points of AUPRC and 5-6% points for F1 score. So, all of these measures are very sensative for the changes in the imbalanced classes."
      ],
      "metadata": {
        "id": "2wDnfUKHuD_0"
      }
    },
    {
      "cell_type": "markdown",
      "source": [
        "# References\n",
        "\n",
        "- Batuhan Bardak and Mehmet Tan (2021). Improving clinical outcome predictions using convolution over medical entities with multimodal learning. Artificial Intelligence in Medicine, Volume 117, https://doi.org/10.1016/j.artmed.2021.102112\n",
        "\n",
        "- Batuhan Bardak and Mehmet Tan (2021). Code for paper - Improving clinical outcome predictions using convolution over medical entities with multimodal learning. https://github.com/tanlab/ConvolutionMedicalNer\n",
        "\n",
        "- Johnson, A., Pollard, T., and Mark, R. (2016). MIMIC-III Clinical Database (version 1.4). PhysioNet. https://doi.org/10.13026/C2XW26\n",
        "\n",
        "- Shirly Wang, Matthew B. A. McDermott, Geeticka Chauhan, Michael C. Hughes, Tristan Naumann, and Marzyeh Ghassemi. MIMIC-Extract: A Data Extraction, Preprocessing, and Representation Pipeline for MIMIC-III. arXiv:1907.08322. https://github.com/MLforHealth/MIMIC_Extract\n",
        "\n",
        "- Kormilitzin, Andrey and Vaci, Nemanja and Liu, Qiang and Nevado-Holgado, Alejo (2020). Med7: a transferable clinical natural language processing model for electronic health records. arXiv preprint arXiv:2003.01271. https://github.com/kormilitzin/med7\n",
        "\n",
        "- Tomas Mikolov, Kai Chen, Greg Corrado, Jeffrey Dean. Efficient Estimation of Word Representations in Vector Space. arXiv:1301.3781v3. https://doi.org/10.48550/arXiv.1301.3781\n",
        "\n",
        "- Kexin Huang, Jaan Altosaar, Rajesh Ranganath This repo hosts pretraining and finetuning weights and relevant scripts for ClinicalBERT. https://github.com/kexinhuang12345/clinicalBERT"
      ],
      "metadata": {
        "id": "BfeLhx9V0VPf"
      }
    }
  ],
  "metadata": {
    "colab": {
      "provenance": []
    },
    "kernelspec": {
      "display_name": "Python 3",
      "name": "python3"
    },
    "language_info": {
      "name": "python"
    }
  },
  "nbformat": 4,
  "nbformat_minor": 0
}